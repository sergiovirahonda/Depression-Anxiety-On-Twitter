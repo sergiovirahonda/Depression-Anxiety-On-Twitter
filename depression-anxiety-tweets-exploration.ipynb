{
 "cells": [
  {
   "cell_type": "markdown",
   "execution_count": null,
   "metadata": {
    "papermill": {
     "duration": 0.023178,
     "end_time": "2020-08-12T01:55:38.415166",
     "exception": false,
     "start_time": "2020-08-12T01:55:38.391988",
     "status": "completed"
    },
    "tags": []
   },
   "source": [
    "# The Project\n",
    "\n",
    "In this opportunity we'll go through a very particular topic. We all know the lockdown during the COVID-19 is affecting all of us in different ways, but the most frequents are depression and anxiety which is an expected outcome - the natural responses to confinement are precisely these, and most of the people don't even know it. It's been a hard time, people are afraid of uncertainty, of losing their jobs as many people have already done, The conditions are met for a major emotional imbalance.\n",
    "\n",
    "Experts recommend to stay away from social media because it accelerates the depression process, and who is depressed already will be even more, however people expressions on it are a key instrument to determine how a population is feeling. Most of the social media active people express how they feel in tweets, facebook posts, comments and even Instagram captions. So, starting from there, **can we determine if the depression and anxiety have increased during the lockdown implementing Machine Learning?**\n",
    "\n",
    "The next project will cover several steps, but a 10000 feet overview would be:\n",
    "\n",
    "* **Topic Modeling** - where we'll be looking for two labels: 1 - Depression & anxiety comments, 0 - Other\n",
    "* **Topic Classification**\n",
    "\n",
    "To achieve both tasks, we'll go through:\n",
    "\n",
    "* **Data collection** - Getting data from different sources to accomplish the main objective.\n",
    "* **Data cleaning** - We'll have to take all the data which is already in different formats and clean it up to then be able to use it.\n",
    "* **Natural Language Processing for Topic Modeling** - We'll need to transform the text data into a type that can be interpreted by ML models.\n",
    "* **Unsupervised Learning tasks for Topic Modeling** - This is crucial, because most of the data we can find out there is unlabeled, so we first need to identify patterns in it.\n",
    "* **Supervised Learning tasks for Topic Classification**- Once the data is labeled, we'll go through several ML algorithms to finally select the one that delivers the best perfomance.\n",
    "* Predict depression and anxiety in unseen tweets before and after lockdown\n",
    "* Results' charting and conclusions\n",
    "\n",
    "\n",
    "**The Depression & Anxiety Facebook comments dataset was obtained at https://www.ncbi.nlm.nih.gov/pmc/articles/PMC6111060/ - for future references.**\n",
    "\n",
    "**The COVID-19 tweets were acquired by myself implementing tweets scrapping. The dataset is composed by several tweets distribuited in the first week of the US lockdown**"
   ]
  },
  {
   "cell_type": "markdown",
   "execution_count": null,
   "metadata": {
    "papermill": {
     "duration": 0.020065,
     "end_time": "2020-08-12T01:55:38.456245",
     "exception": false,
     "start_time": "2020-08-12T01:55:38.436180",
     "status": "completed"
    },
    "tags": []
   },
   "source": [
    "# Imports"
   ]
  },
  {
   "cell_type": "code",
   "execution_count": 1,
   "metadata": {
    "_cell_guid": "b1076dfc-b9ad-4769-8c92-a6c4dae69d19",
    "_uuid": "8f2839f25d086af736a60e9eeb907d3b93b6e0e5",
    "execution": {
     "iopub.execute_input": "2020-08-12T01:55:38.513564Z",
     "iopub.status.busy": "2020-08-12T01:55:38.512655Z",
     "iopub.status.idle": "2020-08-12T01:55:43.878974Z",
     "shell.execute_reply": "2020-08-12T01:55:43.878224Z"
    },
    "papermill": {
     "duration": 5.40235,
     "end_time": "2020-08-12T01:55:43.879136",
     "exception": false,
     "start_time": "2020-08-12T01:55:38.476786",
     "status": "completed"
    },
    "tags": []
   },
   "outputs": [],
   "source": [
    "from sklearn.feature_extraction.text import TfidfVectorizer, CountVectorizer\n",
    "import re\n",
    "import numpy as np\n",
    "import pandas as pd \n",
    "import os\n",
    "import matplotlib.pyplot as plt\n",
    "import string\n",
    "from nltk.corpus import stopwords\n",
    "import nltk\n",
    "from nltk.corpus import wordnet\n",
    "from nltk.stem import WordNetLemmatizer\n",
    "from collections import Counter\n",
    "from wordcloud import WordCloud\n",
    "from nltk.corpus import stopwords\n",
    "import nltk\n",
    "from gensim.utils import simple_preprocess\n",
    "from nltk.corpus import stopwords\n",
    "import gensim\n",
    "from sklearn.model_selection import train_test_split\n",
    "import spacy\n",
    "from sklearn.decomposition import NMF, LatentDirichletAllocation\n",
    "import pyLDAvis\n",
    "import pyLDAvis.sklearn\n",
    "from sklearn.feature_extraction.text import CountVectorizer\n",
    "from sklearn.feature_extraction.text import TfidfTransformer\n",
    "from sklearn.linear_model import SGDClassifier\n",
    "from sklearn.model_selection import GridSearchCV\n",
    "from sklearn.pipeline import Pipeline\n",
    "from pprint import pprint\n",
    "from time import time\n",
    "from sklearn.linear_model import LogisticRegression\n",
    "from sklearn.svm import SVC\n",
    "from sklearn.ensemble import RandomForestClassifier\n",
    "from sklearn.ensemble import GradientBoostingClassifier\n",
    "import xgboost as xgb\n",
    "from sklearn.metrics import precision_score, recall_score, accuracy_score,roc_auc_score\n",
    "import warnings\n",
    "warnings.filterwarnings('ignore')\n",
    "from datetime import datetime\n",
    "import seaborn as sns\n",
    "from sklearn.metrics import confusion_matrix\n",
    "import matplotlib.pyplot as plt "
   ]
  },
  {
   "cell_type": "markdown",
   "execution_count": null,
   "metadata": {
    "papermill": {
     "duration": 0.019882,
     "end_time": "2020-08-12T01:55:43.919861",
     "exception": false,
     "start_time": "2020-08-12T01:55:43.899979",
     "status": "completed"
    },
    "tags": []
   },
   "source": [
    "# Data exploration for Topic Modeling\n",
    "\n",
    "Essentially what we'll do is to explore how the unlabeled data is to then preprocess it."
   ]
  },
  {
   "cell_type": "code",
   "execution_count": 2,
   "metadata": {
    "_cell_guid": "79c7e3d0-c299-4dcb-8224-4455121ee9b0",
    "_uuid": "d629ff2d2480ee46fbb7e2d37f6b5fab8052498a",
    "execution": {
     "iopub.execute_input": "2020-08-12T01:55:43.969060Z",
     "iopub.status.busy": "2020-08-12T01:55:43.965685Z",
     "iopub.status.idle": "2020-08-12T01:55:43.974114Z",
     "shell.execute_reply": "2020-08-12T01:55:43.973450Z"
    },
    "papermill": {
     "duration": 0.033935,
     "end_time": "2020-08-12T01:55:43.974267",
     "exception": false,
     "start_time": "2020-08-12T01:55:43.940332",
     "status": "completed"
    },
    "tags": []
   },
   "outputs": [
    {
     "data": {
      "text/plain": [
       "['depression-anxiety-tweets', 'depression-and-anxiety-comments']"
      ]
     },
     "execution_count": 2,
     "metadata": {},
     "output_type": "execute_result"
    }
   ],
   "source": [
    "os.listdir('/kaggle/input')"
   ]
  },
  {
   "cell_type": "code",
   "execution_count": 3,
   "metadata": {
    "execution": {
     "iopub.execute_input": "2020-08-12T01:55:44.023801Z",
     "iopub.status.busy": "2020-08-12T01:55:44.022629Z",
     "iopub.status.idle": "2020-08-12T01:55:44.551007Z",
     "shell.execute_reply": "2020-08-12T01:55:44.550267Z"
    },
    "papermill": {
     "duration": 0.555344,
     "end_time": "2020-08-12T01:55:44.551152",
     "exception": false,
     "start_time": "2020-08-12T01:55:43.995808",
     "status": "completed"
    },
    "tags": []
   },
   "outputs": [
    {
     "data": {
      "text/html": [
       "<div>\n",
       "<style scoped>\n",
       "    .dataframe tbody tr th:only-of-type {\n",
       "        vertical-align: middle;\n",
       "    }\n",
       "\n",
       "    .dataframe tbody tr th {\n",
       "        vertical-align: top;\n",
       "    }\n",
       "\n",
       "    .dataframe thead th {\n",
       "        text-align: right;\n",
       "    }\n",
       "</style>\n",
       "<table border=\"1\" class=\"dataframe\">\n",
       "  <thead>\n",
       "    <tr style=\"text-align: right;\">\n",
       "      <th></th>\n",
       "      <th>Comments Text</th>\n",
       "    </tr>\n",
       "  </thead>\n",
       "  <tbody>\n",
       "    <tr>\n",
       "      <th>0</th>\n",
       "      <td>So, when you ask what the two illnesses are......</td>\n",
       "    </tr>\n",
       "    <tr>\n",
       "      <th>1</th>\n",
       "      <td>In addition, people with BPD quite often have ...</td>\n",
       "    </tr>\n",
       "    <tr>\n",
       "      <th>2</th>\n",
       "      <td>Borderline Personality Disorder, like all othe...</td>\n",
       "    </tr>\n",
       "    <tr>\n",
       "      <th>3</th>\n",
       "      <td>LONG ANSWER: Bipolar disease is caused by a ch...</td>\n",
       "    </tr>\n",
       "    <tr>\n",
       "      <th>4</th>\n",
       "      <td>Well think of bipolar as a rollar coaster you ...</td>\n",
       "    </tr>\n",
       "  </tbody>\n",
       "</table>\n",
       "</div>"
      ],
      "text/plain": [
       "                                       Comments Text\n",
       "0  So, when you ask what the two illnesses are......\n",
       "1  In addition, people with BPD quite often have ...\n",
       "2  Borderline Personality Disorder, like all othe...\n",
       "3  LONG ANSWER: Bipolar disease is caused by a ch...\n",
       "4  Well think of bipolar as a rollar coaster you ..."
      ]
     },
     "execution_count": 3,
     "metadata": {},
     "output_type": "execute_result"
    }
   ],
   "source": [
    "dataset = pd.read_excel('../input/depression-and-anxiety-comments/Depression  Anxiety Facebook page Comments Text.xlsx')\n",
    "dataset.head()"
   ]
  },
  {
   "cell_type": "code",
   "execution_count": 4,
   "metadata": {
    "execution": {
     "iopub.execute_input": "2020-08-12T01:55:44.601019Z",
     "iopub.status.busy": "2020-08-12T01:55:44.599731Z",
     "iopub.status.idle": "2020-08-12T01:55:44.604953Z",
     "shell.execute_reply": "2020-08-12T01:55:44.604136Z"
    },
    "papermill": {
     "duration": 0.032946,
     "end_time": "2020-08-12T01:55:44.605094",
     "exception": false,
     "start_time": "2020-08-12T01:55:44.572148",
     "status": "completed"
    },
    "tags": []
   },
   "outputs": [
    {
     "data": {
      "text/plain": [
       "(7145, 1)"
      ]
     },
     "execution_count": 4,
     "metadata": {},
     "output_type": "execute_result"
    }
   ],
   "source": [
    "dataset.shape"
   ]
  },
  {
   "cell_type": "code",
   "execution_count": 5,
   "metadata": {
    "execution": {
     "iopub.execute_input": "2020-08-12T01:55:44.658194Z",
     "iopub.status.busy": "2020-08-12T01:55:44.657106Z",
     "iopub.status.idle": "2020-08-12T01:55:44.662479Z",
     "shell.execute_reply": "2020-08-12T01:55:44.661829Z"
    },
    "papermill": {
     "duration": 0.036512,
     "end_time": "2020-08-12T01:55:44.662610",
     "exception": false,
     "start_time": "2020-08-12T01:55:44.626098",
     "status": "completed"
    },
    "tags": []
   },
   "outputs": [
    {
     "data": {
      "text/plain": [
       "Comments Text    0\n",
       "dtype: int64"
      ]
     },
     "execution_count": 5,
     "metadata": {},
     "output_type": "execute_result"
    }
   ],
   "source": [
    "dataset.isnull().sum()"
   ]
  },
  {
   "cell_type": "markdown",
   "execution_count": null,
   "metadata": {
    "papermill": {
     "duration": 0.020974,
     "end_time": "2020-08-12T01:55:44.705049",
     "exception": false,
     "start_time": "2020-08-12T01:55:44.684075",
     "status": "completed"
    },
    "tags": []
   },
   "source": [
    "Our first dataset contains 7145 entries without null values"
   ]
  },
  {
   "cell_type": "markdown",
   "execution_count": null,
   "metadata": {
    "papermill": {
     "duration": 0.020765,
     "end_time": "2020-08-12T01:55:44.747055",
     "exception": false,
     "start_time": "2020-08-12T01:55:44.726290",
     "status": "completed"
    },
    "tags": []
   },
   "source": [
    "# Data preprocessing for Topic Modeling\n",
    "\n",
    "We need to apply some NLP tasks to prepare the data to be labeled. These are the main tasks:\n",
    "\n",
    "* Remove URLs\n",
    "* Remove emails\n",
    "* Lowercase all text\n",
    "* Remove punctuation signs\n",
    "* Remove stop words\n",
    "* Lemmatize text"
   ]
  },
  {
   "cell_type": "code",
   "execution_count": 6,
   "metadata": {
    "execution": {
     "iopub.execute_input": "2020-08-12T01:55:44.802639Z",
     "iopub.status.busy": "2020-08-12T01:55:44.800069Z",
     "iopub.status.idle": "2020-08-12T01:55:45.940816Z",
     "shell.execute_reply": "2020-08-12T01:55:45.939990Z"
    },
    "papermill": {
     "duration": 1.172837,
     "end_time": "2020-08-12T01:55:45.940954",
     "exception": false,
     "start_time": "2020-08-12T01:55:44.768117",
     "status": "completed"
    },
    "tags": []
   },
   "outputs": [
    {
     "data": {
      "text/html": [
       "<div>\n",
       "<style scoped>\n",
       "    .dataframe tbody tr th:only-of-type {\n",
       "        vertical-align: middle;\n",
       "    }\n",
       "\n",
       "    .dataframe tbody tr th {\n",
       "        vertical-align: top;\n",
       "    }\n",
       "\n",
       "    .dataframe thead th {\n",
       "        text-align: right;\n",
       "    }\n",
       "</style>\n",
       "<table border=\"1\" class=\"dataframe\">\n",
       "  <thead>\n",
       "    <tr style=\"text-align: right;\">\n",
       "      <th></th>\n",
       "      <th>Comments Text</th>\n",
       "    </tr>\n",
       "  </thead>\n",
       "  <tbody>\n",
       "    <tr>\n",
       "      <th>0</th>\n",
       "      <td>So, when you ask what the two illnesses are......</td>\n",
       "    </tr>\n",
       "    <tr>\n",
       "      <th>1</th>\n",
       "      <td>In addition, people with BPD quite often have ...</td>\n",
       "    </tr>\n",
       "    <tr>\n",
       "      <th>2</th>\n",
       "      <td>Borderline Personality Disorder, like all othe...</td>\n",
       "    </tr>\n",
       "    <tr>\n",
       "      <th>3</th>\n",
       "      <td>LONG ANSWER: Bipolar disease is caused by a ch...</td>\n",
       "    </tr>\n",
       "    <tr>\n",
       "      <th>4</th>\n",
       "      <td>Well think of bipolar as a rollar coaster you ...</td>\n",
       "    </tr>\n",
       "  </tbody>\n",
       "</table>\n",
       "</div>"
      ],
      "text/plain": [
       "                                       Comments Text\n",
       "0  So, when you ask what the two illnesses are......\n",
       "1  In addition, people with BPD quite often have ...\n",
       "2  Borderline Personality Disorder, like all othe...\n",
       "3  LONG ANSWER: Bipolar disease is caused by a ch...\n",
       "4  Well think of bipolar as a rollar coaster you ..."
      ]
     },
     "execution_count": 6,
     "metadata": {},
     "output_type": "execute_result"
    }
   ],
   "source": [
    "#Removing URLs with a regular expression\n",
    "\n",
    "def remove_urls(text):\n",
    "    url_pattern = re.compile(r'https?://\\S+|www\\.\\S+')\n",
    "    return url_pattern.sub(r'', text)\n",
    "\n",
    "for i in range(len(dataset)):\n",
    "  dataset.at[i,'Comments Text'] = remove_urls(dataset.iloc[i]['Comments Text'])\n",
    "dataset.head()"
   ]
  },
  {
   "cell_type": "code",
   "execution_count": 7,
   "metadata": {
    "execution": {
     "iopub.execute_input": "2020-08-12T01:55:46.031421Z",
     "iopub.status.busy": "2020-08-12T01:55:45.999933Z",
     "iopub.status.idle": "2020-08-12T01:55:46.516884Z",
     "shell.execute_reply": "2020-08-12T01:55:46.517520Z"
    },
    "papermill": {
     "duration": 0.555156,
     "end_time": "2020-08-12T01:55:46.517719",
     "exception": false,
     "start_time": "2020-08-12T01:55:45.962563",
     "status": "completed"
    },
    "tags": []
   },
   "outputs": [
    {
     "name": "stdout",
     "output_type": "stream",
     "text": [
      "['So, when you ask what the two illnesses are...theyre similar in that they tend to have moodiness involved, impulsivity and self-damaging behaviors for compensatory measures. Otherwise, theyre not really that similar, but they do seem to \"like\" one another and often show up in the same person...making their lives chaotic, difficult, dysfunctional, and intense. So, if your friend is concerned that they may have one (or both) of these illnesses, they should not be ashamed. Its definitely not their fault. They should, instead, get help from a professional...and INSIST that they are treated appropriately with the correct types of therapy and medication.']\n"
     ]
    }
   ],
   "source": [
    "# Convert to list\n",
    "data = dataset['Comments Text'].values.tolist()\n",
    "\n",
    "# Remove Emails\n",
    "data = [re.sub('\\S*@\\S*\\s?', '', sent) for sent in data]\n",
    "\n",
    "# Remove new line characters\n",
    "data = [re.sub('\\s+', ' ', sent) for sent in data]\n",
    "\n",
    "# Remove distracting single quotes\n",
    "data = [re.sub(\"\\'\", \"\", sent) for sent in data]\n",
    "\n",
    "print(data[:1])"
   ]
  },
  {
   "cell_type": "code",
   "execution_count": 8,
   "metadata": {
    "execution": {
     "iopub.execute_input": "2020-08-12T01:55:46.571049Z",
     "iopub.status.busy": "2020-08-12T01:55:46.570211Z",
     "iopub.status.idle": "2020-08-12T01:55:49.046898Z",
     "shell.execute_reply": "2020-08-12T01:55:49.046147Z"
    },
    "papermill": {
     "duration": 2.507434,
     "end_time": "2020-08-12T01:55:49.047063",
     "exception": false,
     "start_time": "2020-08-12T01:55:46.539629",
     "status": "completed"
    },
    "tags": []
   },
   "outputs": [
    {
     "name": "stdout",
     "output_type": "stream",
     "text": [
      "[['so', 'when', 'you', 'ask', 'what', 'the', 'two', 'illnesses', 'are', 'theyre', 'similar', 'in', 'that', 'they', 'tend', 'to', 'have', 'moodiness', 'involved', 'impulsivity', 'and', 'self', 'damaging', 'behaviors', 'for', 'compensatory', 'measures', 'otherwise', 'theyre', 'not', 'really', 'that', 'similar', 'but', 'they', 'do', 'seem', 'to', 'like', 'one', 'another', 'and', 'often', 'show', 'up', 'in', 'the', 'same', 'person', 'making', 'their', 'lives', 'chaotic', 'difficult', 'dysfunctional', 'and', 'intense', 'so', 'if', 'your', 'friend', 'is', 'concerned', 'that', 'they', 'may', 'have', 'one', 'or', 'both', 'of', 'these', 'illnesses', 'they', 'should', 'not', 'be', 'ashamed', 'its', 'definitely', 'not', 'their', 'fault', 'they', 'should', 'instead', 'get', 'help', 'from', 'professional', 'and', 'insist', 'that', 'they', 'are', 'treated', 'appropriately', 'with', 'the', 'correct', 'types', 'of', 'therapy', 'and', 'medication']]\n"
     ]
    }
   ],
   "source": [
    "def sent_to_words(sentences):\n",
    "    for sentence in sentences:\n",
    "        yield(gensim.utils.simple_preprocess(str(sentence), deacc=True))  # deacc=True removes punctuations\n",
    "\n",
    "data_words = list(sent_to_words(data))\n",
    "\n",
    "print(data_words[:1])"
   ]
  },
  {
   "cell_type": "code",
   "execution_count": 9,
   "metadata": {
    "execution": {
     "iopub.execute_input": "2020-08-12T01:55:49.127186Z",
     "iopub.status.busy": "2020-08-12T01:55:49.111053Z",
     "iopub.status.idle": "2020-08-12T01:56:01.458414Z",
     "shell.execute_reply": "2020-08-12T01:56:01.457715Z"
    },
    "papermill": {
     "duration": 12.389288,
     "end_time": "2020-08-12T01:56:01.458609",
     "exception": false,
     "start_time": "2020-08-12T01:55:49.069321",
     "status": "completed"
    },
    "tags": []
   },
   "outputs": [
    {
     "name": "stdout",
     "output_type": "stream",
     "text": [
      "['so', 'when', 'you', 'ask', 'what', 'the', 'two', 'illnesses', 'are', 'theyre', 'similar', 'in', 'that', 'they', 'tend', 'to', 'have', 'moodiness', 'involved', 'impulsivity', 'and', 'self', 'damaging', 'behaviors', 'for', 'compensatory', 'measures', 'otherwise', 'theyre', 'not', 'really', 'that', 'similar', 'but', 'they', 'do', 'seem', 'to', 'like', 'one', 'another', 'and', 'often', 'show', 'up', 'in', 'the', 'same', 'person', 'making', 'their', 'lives', 'chaotic', 'difficult', 'dysfunctional', 'and', 'intense', 'so', 'if', 'your', 'friend', 'is', 'concerned', 'that', 'they', 'may', 'have', 'one', 'or', 'both', 'of', 'these', 'illnesses', 'they', 'should', 'not', 'be', 'ashamed', 'its', 'definitely', 'not', 'their', 'fault', 'they', 'should', 'instead', 'get', 'help', 'from', 'professional', 'and', 'insist', 'that', 'they', 'are', 'treated', 'appropriately', 'with', 'the', 'correct', 'types', 'of', 'therapy', 'and', 'medication']\n"
     ]
    }
   ],
   "source": [
    "# Build the bigram and trigram models\n",
    "bigram = gensim.models.Phrases(data_words, min_count=5, threshold=100) # higher threshold fewer phrases.\n",
    "trigram = gensim.models.Phrases(bigram[data_words], threshold=100)  \n",
    "\n",
    "# Faster way to get a sentence clubbed as a trigram/bigram\n",
    "bigram_mod = gensim.models.phrases.Phraser(bigram)\n",
    "trigram_mod = gensim.models.phrases.Phraser(trigram)\n",
    "\n",
    "# See trigram example\n",
    "print(trigram_mod[bigram_mod[data_words[0]]])"
   ]
  },
  {
   "cell_type": "code",
   "execution_count": 10,
   "metadata": {
    "execution": {
     "iopub.execute_input": "2020-08-12T01:56:01.515373Z",
     "iopub.status.busy": "2020-08-12T01:56:01.514521Z",
     "iopub.status.idle": "2020-08-12T01:56:01.533541Z",
     "shell.execute_reply": "2020-08-12T01:56:01.532635Z"
    },
    "papermill": {
     "duration": 0.053017,
     "end_time": "2020-08-12T01:56:01.533696",
     "exception": false,
     "start_time": "2020-08-12T01:56:01.480679",
     "status": "completed"
    },
    "tags": []
   },
   "outputs": [],
   "source": [
    "# Define functions for stopwords, bigrams, trigrams and lemmatization\n",
    "\n",
    "stop_words = set(stopwords.words(\"english\"))\n",
    "\n",
    "\n",
    "def remove_stopwords(texts):\n",
    "    return [[word for word in simple_preprocess(str(doc)) if word not in stop_words] for doc in texts]\n",
    "\n",
    "def make_bigrams(texts):\n",
    "    return [bigram_mod[doc] for doc in texts]\n",
    "\n",
    "def make_trigrams(texts):\n",
    "    return [trigram_mod[bigram_mod[doc]] for doc in texts]\n",
    "\n",
    "def lemmatization(texts, allowed_postags=['NOUN', 'ADJ', 'VERB', 'ADV']):\n",
    "    texts_out = []\n",
    "    for sent in texts:\n",
    "        doc = nlp(\" \".join(sent)) \n",
    "        texts_out.append([token.lemma_ for token in doc if token.pos_ in allowed_postags])\n",
    "    return texts_out"
   ]
  },
  {
   "cell_type": "code",
   "execution_count": 11,
   "metadata": {
    "execution": {
     "iopub.execute_input": "2020-08-12T01:56:01.624189Z",
     "iopub.status.busy": "2020-08-12T01:56:01.603498Z",
     "iopub.status.idle": "2020-08-12T01:56:39.828916Z",
     "shell.execute_reply": "2020-08-12T01:56:39.830122Z"
    },
    "papermill": {
     "duration": 38.274196,
     "end_time": "2020-08-12T01:56:39.830429",
     "exception": false,
     "start_time": "2020-08-12T01:56:01.556233",
     "status": "completed"
    },
    "tags": []
   },
   "outputs": [
    {
     "name": "stdout",
     "output_type": "stream",
     "text": [
      "[['ask', 'illness', 'be', 'similar', 'tend', 'moodiness', 'involved', 'impulsivity', 'self', 'damaging', 'behavior', 'compensatory', 'measure', 'otherwise', 'be', 'really', 'similar', 'seem', 'one', 'often', 'show', 'person', 'make', 'live', 'chaotic', 'difficult', 'dysfunctional', 'intense', 'friend', 'concern', 'may', 'illness', 'ashamed', 'definitely', 'fault', 'instead', 'get', 'help', 'professional', 'insist', 'treat', 'appropriately', 'correct', 'type', 'therapy', 'medication']]\n"
     ]
    }
   ],
   "source": [
    "# Remove Stop Words\n",
    "data_words_nostops = remove_stopwords(data_words)\n",
    "\n",
    "# Form Bigrams\n",
    "data_words_bigrams = make_bigrams(data_words_nostops)\n",
    "\n",
    "# Initialize spacy 'en' model, keeping only tagger component (for efficiency)\n",
    "# python3 -m spacy download en\n",
    "nlp = spacy.load('en', disable=['parser', 'ner'])\n",
    "\n",
    "# Do lemmatization keeping only noun, adj, vb, adv\n",
    "data_lemmatized = lemmatization(data_words_bigrams, allowed_postags=['NOUN', 'ADJ', 'VERB', 'ADV'])\n",
    "\n",
    "print(data_lemmatized[:1])"
   ]
  },
  {
   "cell_type": "code",
   "execution_count": 12,
   "metadata": {
    "execution": {
     "iopub.execute_input": "2020-08-12T01:56:39.897102Z",
     "iopub.status.busy": "2020-08-12T01:56:39.884496Z",
     "iopub.status.idle": "2020-08-12T01:56:39.900562Z",
     "shell.execute_reply": "2020-08-12T01:56:39.899863Z"
    },
    "papermill": {
     "duration": 0.047478,
     "end_time": "2020-08-12T01:56:39.900706",
     "exception": false,
     "start_time": "2020-08-12T01:56:39.853228",
     "status": "completed"
    },
    "tags": []
   },
   "outputs": [],
   "source": [
    "dataset = []\n",
    "for i in range(len(data_lemmatized)):\n",
    "    dataset.append(\" \".join(data_lemmatized[i]))\n",
    "dataset = pd.Series(dataset)"
   ]
  },
  {
   "cell_type": "markdown",
   "execution_count": null,
   "metadata": {
    "papermill": {
     "duration": 0.021985,
     "end_time": "2020-08-12T01:56:39.945326",
     "exception": false,
     "start_time": "2020-08-12T01:56:39.923341",
     "status": "completed"
    },
    "tags": []
   },
   "source": [
    "# Data Vectorization for Topic Modeling\n",
    "\n",
    "This step is crucial, otherwise our models that can only interpret numerical data won't be able to process our text, and we'll do it in a very particular way: we'll implement TFIDF vectorizer and CountVectorizer. The reason why we do this is to then compare NMF and LDA models' topics."
   ]
  },
  {
   "cell_type": "code",
   "execution_count": 13,
   "metadata": {
    "execution": {
     "iopub.execute_input": "2020-08-12T01:56:40.046351Z",
     "iopub.status.busy": "2020-08-12T01:56:40.020102Z",
     "iopub.status.idle": "2020-08-12T01:56:41.908298Z",
     "shell.execute_reply": "2020-08-12T01:56:41.907535Z"
    },
    "papermill": {
     "duration": 1.940608,
     "end_time": "2020-08-12T01:56:41.908473",
     "exception": false,
     "start_time": "2020-08-12T01:56:39.967865",
     "status": "completed"
    },
    "tags": []
   },
   "outputs": [],
   "source": [
    "no_features = 15000\n",
    "\n",
    "# NMF is able to use tf-idf\n",
    "tfidf_vectorizer = TfidfVectorizer(ngram_range=(1,3), max_features=no_features)\n",
    "tfidf = tfidf_vectorizer.fit_transform(dataset)\n",
    "tfidf_feature_names = tfidf_vectorizer.get_feature_names()\n",
    "\n",
    "# LDA can only use raw term counts for LDA because it is a probabilistic graphical model\n",
    "tf_vectorizer = CountVectorizer(min_df=0.05,max_features=no_features)\n",
    "tf = tf_vectorizer.fit_transform(dataset)\n",
    "tf_feature_names = tf_vectorizer.get_feature_names()"
   ]
  },
  {
   "cell_type": "markdown",
   "execution_count": null,
   "metadata": {
    "papermill": {
     "duration": 0.021824,
     "end_time": "2020-08-12T01:56:41.952571",
     "exception": false,
     "start_time": "2020-08-12T01:56:41.930747",
     "status": "completed"
    },
    "tags": []
   },
   "source": [
    "# Model training\n",
    "\n",
    "We'll explore how LDA and NMF can create the topics and depending on the outcomes we'll select the proper one for this project. Essentially we're looking for focused topics, otherwise the purpose of this project won't be reached.\n",
    "\n",
    "The crucial difference between both models is that LDA adds a Dirichlet prior on top of the data generating process, meaning NMF qualitatively leads to worse mixtures, which could affect our dataset's topic quality. \n",
    "\n",
    "Regarding the library we'll be using: Scikit-Learn - the reasons are more than obvious, even when Gensim has more capabilities, it's also more complex and much more slower - we're looking to keep the things as simpler as possible and get results as quick as possible.\n",
    "\n",
    "The outcome of this stage will be the original dataframe with its labels: 1 for depression/anxiety comments and 0 for other type of comments."
   ]
  },
  {
   "cell_type": "code",
   "execution_count": 14,
   "metadata": {
    "execution": {
     "iopub.execute_input": "2020-08-12T01:56:42.008984Z",
     "iopub.status.busy": "2020-08-12T01:56:42.007646Z",
     "iopub.status.idle": "2020-08-12T01:57:04.544778Z",
     "shell.execute_reply": "2020-08-12T01:57:04.545437Z"
    },
    "papermill": {
     "duration": 22.569777,
     "end_time": "2020-08-12T01:57:04.545644",
     "exception": false,
     "start_time": "2020-08-12T01:56:41.975867",
     "status": "completed"
    },
    "tags": []
   },
   "outputs": [],
   "source": [
    "no_topics = 2\n",
    "\n",
    "# Run NMF\n",
    "nmf = NMF(n_components=no_topics, random_state=1, alpha=.1, l1_ratio=.5,max_iter=10000).fit(tfidf)\n",
    "\n",
    "# Run LDA\n",
    "lda = LatentDirichletAllocation(n_components=no_topics, max_iter=10, learning_method='online', learning_offset=50.,random_state=0).fit(tf)"
   ]
  },
  {
   "cell_type": "markdown",
   "execution_count": null,
   "metadata": {
    "papermill": {
     "duration": 0.021982,
     "end_time": "2020-08-12T01:57:04.590160",
     "exception": false,
     "start_time": "2020-08-12T01:57:04.568178",
     "status": "completed"
    },
    "tags": []
   },
   "source": [
    "# Topics' Comparison\n",
    "\n",
    "Let's see how coherent the topics are for each model. Remember we're looking for specifity, otherwise the classifier would get wrong results."
   ]
  },
  {
   "cell_type": "code",
   "execution_count": 15,
   "metadata": {
    "execution": {
     "iopub.execute_input": "2020-08-12T01:57:04.645786Z",
     "iopub.status.busy": "2020-08-12T01:57:04.644651Z",
     "iopub.status.idle": "2020-08-12T01:57:04.653224Z",
     "shell.execute_reply": "2020-08-12T01:57:04.652226Z"
    },
    "papermill": {
     "duration": 0.04016,
     "end_time": "2020-08-12T01:57:04.653440",
     "exception": false,
     "start_time": "2020-08-12T01:57:04.613280",
     "status": "completed"
    },
    "tags": []
   },
   "outputs": [
    {
     "name": "stdout",
     "output_type": "stream",
     "text": [
      "NMF\n",
      "Topic 0:\n",
      "be, help, go, take, feel, get, know, time, med, make, try, thing, day, work, would, people, need, have, think, life, good, year, want, say, find\n",
      "Topic 1:\n",
      "anxiety, depression, depression anxiety, bipolar, anxiety depression, take, bipolar depression anxiety, bipolar depression, help anxiety, disorder, severe, help, work, anxiety attack, also, attack, severe anxiety, suffer, bipolar anxiety, symptom, med, anxiety disorder, high, anxiety take, bad\n",
      "LDA\n",
      "Topic 0:\n",
      "be, feel, go, know, day, people, get, time, think, say, life, want, thing, have, make, would, struggle, even, love, try, can, understand, tell, good, way\n",
      "Topic 1:\n",
      "anxiety, take, help, med, work, depression, also, bipolar, get, need, find, medication, try, doctor, year, may, make, well, go, use, disorder, sleep, good, time, would\n"
     ]
    }
   ],
   "source": [
    "def display_topics(model, feature_names, no_top_words):\n",
    "    for topic_idx, topic in enumerate(model.components_):\n",
    "        print(\"Topic %d:\" % (topic_idx))\n",
    "        print(\", \".join([feature_names[i] for i in topic.argsort()[:-no_top_words - 1:-1]]))\n",
    "\n",
    "no_top_words = 25\n",
    "print('NMF')\n",
    "display_topics(nmf, tfidf_feature_names, no_top_words)\n",
    "print('LDA')\n",
    "display_topics(lda, tf_feature_names, no_top_words)"
   ]
  },
  {
   "cell_type": "markdown",
   "execution_count": null,
   "metadata": {
    "papermill": {
     "duration": 0.023069,
     "end_time": "2020-08-12T01:57:04.699423",
     "exception": false,
     "start_time": "2020-08-12T01:57:04.676354",
     "status": "completed"
    },
    "tags": []
   },
   "source": [
    "As you can see, NMF delivers better term mixtures for the topic 1 which is the one that cares us the most. Actually, if you read carefully the topic 1 you'll find out that it's what we were looking for since the beginning. Just because NMF is able to work with ngrams is the reason why we get better results and delivers depressive/anxious actual mixtures and not just terms about it.\n",
    "\n",
    "Let's go more in depth and get all #1 labels for both models and see which one is more coherent."
   ]
  },
  {
   "cell_type": "markdown",
   "execution_count": null,
   "metadata": {
    "papermill": {
     "duration": 0.021902,
     "end_time": "2020-08-12T01:57:04.743902",
     "exception": false,
     "start_time": "2020-08-12T01:57:04.722000",
     "status": "completed"
    },
    "tags": []
   },
   "source": [
    "# Dominant Topics' Extraction\n",
    "\n",
    "Essentially what we'll do is to attach every document to its respective label."
   ]
  },
  {
   "cell_type": "code",
   "execution_count": 16,
   "metadata": {
    "execution": {
     "iopub.execute_input": "2020-08-12T01:57:04.800206Z",
     "iopub.status.busy": "2020-08-12T01:57:04.798004Z",
     "iopub.status.idle": "2020-08-12T01:57:06.858733Z",
     "shell.execute_reply": "2020-08-12T01:57:06.859382Z"
    },
    "papermill": {
     "duration": 2.093383,
     "end_time": "2020-08-12T01:57:06.859598",
     "exception": false,
     "start_time": "2020-08-12T01:57:04.766215",
     "status": "completed"
    },
    "tags": []
   },
   "outputs": [],
   "source": [
    "# Create Document — Topic Matrix\n",
    "lda_output = lda.transform(tf)\n",
    "# column names\n",
    "topicnames = ['Topic' + str(i) for i in range(lda.n_components)]\n",
    "# index names\n",
    "docnames = ['Doc' + str(i) for i in range(len(dataset))]\n",
    "# Make the pandas dataframe\n",
    "df_document_topic = pd.DataFrame(np.round(lda_output, 2), columns=topicnames, index=docnames)\n",
    "# Get dominant topic for each document\n",
    "dominant_topic = np.argmax(df_document_topic.values, axis=1)\n",
    "df_document_topic['dominant_topic'] = dominant_topic\n",
    "\n",
    "df_document_topics = df_document_topic\n",
    "dataset2 = pd.read_excel('../input/depression-and-anxiety-comments/Depression  Anxiety Facebook page Comments Text.xlsx')\n",
    "df_document_topics.reset_index(inplace=True,drop=True)\n",
    "dataset2['label'] = df_document_topics['dominant_topic']"
   ]
  },
  {
   "cell_type": "code",
   "execution_count": 17,
   "metadata": {
    "execution": {
     "iopub.execute_input": "2020-08-12T01:57:06.917943Z",
     "iopub.status.busy": "2020-08-12T01:57:06.916910Z",
     "iopub.status.idle": "2020-08-12T01:57:06.922559Z",
     "shell.execute_reply": "2020-08-12T01:57:06.921782Z"
    },
    "papermill": {
     "duration": 0.040522,
     "end_time": "2020-08-12T01:57:06.922690",
     "exception": false,
     "start_time": "2020-08-12T01:57:06.882168",
     "status": "completed"
    },
    "tags": []
   },
   "outputs": [
    {
     "data": {
      "text/html": [
       "<div>\n",
       "<style scoped>\n",
       "    .dataframe tbody tr th:only-of-type {\n",
       "        vertical-align: middle;\n",
       "    }\n",
       "\n",
       "    .dataframe tbody tr th {\n",
       "        vertical-align: top;\n",
       "    }\n",
       "\n",
       "    .dataframe thead th {\n",
       "        text-align: right;\n",
       "    }\n",
       "</style>\n",
       "<table border=\"1\" class=\"dataframe\">\n",
       "  <thead>\n",
       "    <tr style=\"text-align: right;\">\n",
       "      <th></th>\n",
       "      <th>Comments Text</th>\n",
       "      <th>label</th>\n",
       "    </tr>\n",
       "  </thead>\n",
       "  <tbody>\n",
       "    <tr>\n",
       "      <th>0</th>\n",
       "      <td>So, when you ask what the two illnesses are......</td>\n",
       "      <td>0</td>\n",
       "    </tr>\n",
       "    <tr>\n",
       "      <th>1</th>\n",
       "      <td>In addition, people with BPD quite often have ...</td>\n",
       "      <td>0</td>\n",
       "    </tr>\n",
       "    <tr>\n",
       "      <th>2</th>\n",
       "      <td>Borderline Personality Disorder, like all othe...</td>\n",
       "      <td>0</td>\n",
       "    </tr>\n",
       "    <tr>\n",
       "      <th>3</th>\n",
       "      <td>LONG ANSWER: Bipolar disease is caused by a ch...</td>\n",
       "      <td>1</td>\n",
       "    </tr>\n",
       "    <tr>\n",
       "      <th>4</th>\n",
       "      <td>Well think of bipolar as a rollar coaster you ...</td>\n",
       "      <td>0</td>\n",
       "    </tr>\n",
       "  </tbody>\n",
       "</table>\n",
       "</div>"
      ],
      "text/plain": [
       "                                       Comments Text  label\n",
       "0  So, when you ask what the two illnesses are......      0\n",
       "1  In addition, people with BPD quite often have ...      0\n",
       "2  Borderline Personality Disorder, like all othe...      0\n",
       "3  LONG ANSWER: Bipolar disease is caused by a ch...      1\n",
       "4  Well think of bipolar as a rollar coaster you ...      0"
      ]
     },
     "execution_count": 17,
     "metadata": {},
     "output_type": "execute_result"
    }
   ],
   "source": [
    "dataset2.head()"
   ]
  },
  {
   "cell_type": "code",
   "execution_count": 18,
   "metadata": {
    "execution": {
     "iopub.execute_input": "2020-08-12T01:57:06.979439Z",
     "iopub.status.busy": "2020-08-12T01:57:06.978607Z",
     "iopub.status.idle": "2020-08-12T01:57:07.419220Z",
     "shell.execute_reply": "2020-08-12T01:57:07.418212Z"
    },
    "papermill": {
     "duration": 0.473932,
     "end_time": "2020-08-12T01:57:07.419373",
     "exception": false,
     "start_time": "2020-08-12T01:57:06.945441",
     "status": "completed"
    },
    "tags": []
   },
   "outputs": [],
   "source": [
    "# Create Document — Topic Matrix\n",
    "nmf_output = nmf.transform(tfidf)\n",
    "# column names\n",
    "topicnames = ['Topic' + str(i) for i in range(nmf.n_components)]\n",
    "# index names\n",
    "docnames = ['Doc' + str(i) for i in range(len(dataset))]\n",
    "# Make the pandas dataframe\n",
    "df_document_topic = pd.DataFrame(np.round(nmf_output, 2), columns=topicnames, index=docnames)\n",
    "# Get dominant topic for each document\n",
    "dominant_topic = np.argmax(df_document_topic.values, axis=1)\n",
    "df_document_topic['dominant_topic'] = dominant_topic\n",
    "\n",
    "df_document_topics = df_document_topic\n",
    "dataset1 = pd.read_excel('../input/depression-and-anxiety-comments/Depression  Anxiety Facebook page Comments Text.xlsx')\n",
    "df_document_topics.reset_index(inplace=True,drop=True)\n",
    "dataset1['label'] = df_document_topics['dominant_topic']"
   ]
  },
  {
   "cell_type": "code",
   "execution_count": 19,
   "metadata": {
    "execution": {
     "iopub.execute_input": "2020-08-12T01:57:07.475789Z",
     "iopub.status.busy": "2020-08-12T01:57:07.474572Z",
     "iopub.status.idle": "2020-08-12T01:57:07.479803Z",
     "shell.execute_reply": "2020-08-12T01:57:07.479146Z"
    },
    "papermill": {
     "duration": 0.038165,
     "end_time": "2020-08-12T01:57:07.479957",
     "exception": false,
     "start_time": "2020-08-12T01:57:07.441792",
     "status": "completed"
    },
    "tags": []
   },
   "outputs": [
    {
     "data": {
      "text/html": [
       "<div>\n",
       "<style scoped>\n",
       "    .dataframe tbody tr th:only-of-type {\n",
       "        vertical-align: middle;\n",
       "    }\n",
       "\n",
       "    .dataframe tbody tr th {\n",
       "        vertical-align: top;\n",
       "    }\n",
       "\n",
       "    .dataframe thead th {\n",
       "        text-align: right;\n",
       "    }\n",
       "</style>\n",
       "<table border=\"1\" class=\"dataframe\">\n",
       "  <thead>\n",
       "    <tr style=\"text-align: right;\">\n",
       "      <th></th>\n",
       "      <th>Comments Text</th>\n",
       "      <th>label</th>\n",
       "    </tr>\n",
       "  </thead>\n",
       "  <tbody>\n",
       "    <tr>\n",
       "      <th>0</th>\n",
       "      <td>So, when you ask what the two illnesses are......</td>\n",
       "      <td>0</td>\n",
       "    </tr>\n",
       "    <tr>\n",
       "      <th>1</th>\n",
       "      <td>In addition, people with BPD quite often have ...</td>\n",
       "      <td>0</td>\n",
       "    </tr>\n",
       "    <tr>\n",
       "      <th>2</th>\n",
       "      <td>Borderline Personality Disorder, like all othe...</td>\n",
       "      <td>0</td>\n",
       "    </tr>\n",
       "    <tr>\n",
       "      <th>3</th>\n",
       "      <td>LONG ANSWER: Bipolar disease is caused by a ch...</td>\n",
       "      <td>0</td>\n",
       "    </tr>\n",
       "    <tr>\n",
       "      <th>4</th>\n",
       "      <td>Well think of bipolar as a rollar coaster you ...</td>\n",
       "      <td>0</td>\n",
       "    </tr>\n",
       "  </tbody>\n",
       "</table>\n",
       "</div>"
      ],
      "text/plain": [
       "                                       Comments Text  label\n",
       "0  So, when you ask what the two illnesses are......      0\n",
       "1  In addition, people with BPD quite often have ...      0\n",
       "2  Borderline Personality Disorder, like all othe...      0\n",
       "3  LONG ANSWER: Bipolar disease is caused by a ch...      0\n",
       "4  Well think of bipolar as a rollar coaster you ...      0"
      ]
     },
     "execution_count": 19,
     "metadata": {},
     "output_type": "execute_result"
    }
   ],
   "source": [
    "dataset1.head()"
   ]
  },
  {
   "cell_type": "markdown",
   "execution_count": null,
   "metadata": {
    "papermill": {
     "duration": 0.024433,
     "end_time": "2020-08-12T01:57:07.528598",
     "exception": false,
     "start_time": "2020-08-12T01:57:07.504165",
     "status": "completed"
    },
    "tags": []
   },
   "source": [
    "Let's see all depressive/anxious comments labeled by NMF."
   ]
  },
  {
   "cell_type": "code",
   "execution_count": 20,
   "metadata": {
    "execution": {
     "iopub.execute_input": "2020-08-12T01:57:07.583845Z",
     "iopub.status.busy": "2020-08-12T01:57:07.582976Z",
     "iopub.status.idle": "2020-08-12T01:57:07.600830Z",
     "shell.execute_reply": "2020-08-12T01:57:07.599923Z"
    },
    "papermill": {
     "duration": 0.047894,
     "end_time": "2020-08-12T01:57:07.600986",
     "exception": false,
     "start_time": "2020-08-12T01:57:07.553092",
     "status": "completed"
    },
    "tags": []
   },
   "outputs": [
    {
     "data": {
      "text/html": [
       "<div>\n",
       "<style scoped>\n",
       "    .dataframe tbody tr th:only-of-type {\n",
       "        vertical-align: middle;\n",
       "    }\n",
       "\n",
       "    .dataframe tbody tr th {\n",
       "        vertical-align: top;\n",
       "    }\n",
       "\n",
       "    .dataframe thead th {\n",
       "        text-align: right;\n",
       "    }\n",
       "</style>\n",
       "<table border=\"1\" class=\"dataframe\">\n",
       "  <thead>\n",
       "    <tr style=\"text-align: right;\">\n",
       "      <th></th>\n",
       "      <th>Comments Text</th>\n",
       "      <th>label</th>\n",
       "    </tr>\n",
       "  </thead>\n",
       "  <tbody>\n",
       "    <tr>\n",
       "      <th>14</th>\n",
       "      <td>Yes, I've been seeing psychiatrists for nearly...</td>\n",
       "      <td>1</td>\n",
       "    </tr>\n",
       "    <tr>\n",
       "      <th>23</th>\n",
       "      <td>I'm a  *itch 24/7 and I am not on medication b...</td>\n",
       "      <td>1</td>\n",
       "    </tr>\n",
       "    <tr>\n",
       "      <th>45</th>\n",
       "      <td>My wife left me about 9 months ago after a 8 y...</td>\n",
       "      <td>1</td>\n",
       "    </tr>\n",
       "    <tr>\n",
       "      <th>50</th>\n",
       "      <td>Hurtful question..n alot of insensitive commen...</td>\n",
       "      <td>1</td>\n",
       "    </tr>\n",
       "    <tr>\n",
       "      <th>54</th>\n",
       "      <td>My boyfriend has bipolar anxiety and anger iss...</td>\n",
       "      <td>1</td>\n",
       "    </tr>\n",
       "    <tr>\n",
       "      <th>...</th>\n",
       "      <td>...</td>\n",
       "      <td>...</td>\n",
       "    </tr>\n",
       "    <tr>\n",
       "      <th>7090</th>\n",
       "      <td>I have more patoents,that work for direct tv, ...</td>\n",
       "      <td>1</td>\n",
       "    </tr>\n",
       "    <tr>\n",
       "      <th>7094</th>\n",
       "      <td>I am bp2 anxiety few other things on on ssdi</td>\n",
       "      <td>1</td>\n",
       "    </tr>\n",
       "    <tr>\n",
       "      <th>7099</th>\n",
       "      <td>I take Latuda at night because it makes me sle...</td>\n",
       "      <td>1</td>\n",
       "    </tr>\n",
       "    <tr>\n",
       "      <th>7121</th>\n",
       "      <td>This is me alot of the time however I got the ...</td>\n",
       "      <td>1</td>\n",
       "    </tr>\n",
       "    <tr>\n",
       "      <th>7134</th>\n",
       "      <td>A little break in life for me was 4 years of i...</td>\n",
       "      <td>1</td>\n",
       "    </tr>\n",
       "  </tbody>\n",
       "</table>\n",
       "<p>829 rows × 2 columns</p>\n",
       "</div>"
      ],
      "text/plain": [
       "                                          Comments Text  label\n",
       "14    Yes, I've been seeing psychiatrists for nearly...      1\n",
       "23    I'm a  *itch 24/7 and I am not on medication b...      1\n",
       "45    My wife left me about 9 months ago after a 8 y...      1\n",
       "50    Hurtful question..n alot of insensitive commen...      1\n",
       "54    My boyfriend has bipolar anxiety and anger iss...      1\n",
       "...                                                 ...    ...\n",
       "7090  I have more patoents,that work for direct tv, ...      1\n",
       "7094       I am bp2 anxiety few other things on on ssdi      1\n",
       "7099  I take Latuda at night because it makes me sle...      1\n",
       "7121  This is me alot of the time however I got the ...      1\n",
       "7134  A little break in life for me was 4 years of i...      1\n",
       "\n",
       "[829 rows x 2 columns]"
      ]
     },
     "execution_count": 20,
     "metadata": {},
     "output_type": "execute_result"
    }
   ],
   "source": [
    "dataset1[dataset1['label']==1]"
   ]
  },
  {
   "cell_type": "code",
   "execution_count": 21,
   "metadata": {
    "execution": {
     "iopub.execute_input": "2020-08-12T01:57:07.658008Z",
     "iopub.status.busy": "2020-08-12T01:57:07.657048Z",
     "iopub.status.idle": "2020-08-12T01:57:07.709598Z",
     "shell.execute_reply": "2020-08-12T01:57:07.708917Z"
    },
    "papermill": {
     "duration": 0.084561,
     "end_time": "2020-08-12T01:57:07.709743",
     "exception": false,
     "start_time": "2020-08-12T01:57:07.625182",
     "status": "completed"
    },
    "tags": []
   },
   "outputs": [
    {
     "name": "stdout",
     "output_type": "stream",
     "text": [
      "Yes, I've been seeing psychiatrists for nearly 30 years.  First just depression, then cyclothymia, then bipolar and anxiety, then BPD.\n",
      "\n",
      "\n",
      "I'm a  *itch 24/7 and I am not on medication because I have no fking medical insurance for my bipolar, depression and anxiety so I have too deal with it myself and people around me, I can't stand who I am but I feel stuck like you, and hopeless\n",
      "\n",
      "\n",
      "My wife left me about 9 months ago after a 8 year relationship. decided to jist pack up and leave on Christmas without warning because she couldn't deal with my anxiety and depression. It still hurts me but it will get better, you have to believe.  Hang in there.\n",
      "\n",
      "\n",
      "Hurtful question..n alot of insensitive comments. Its not like we can help it.  So on top of hereditary mental health issues...i have to be forever single?  That works wonders on depression n anxiety. Thanks. :'(\n",
      "\n",
      "\n",
      "My boyfriend has bipolar anxiety and anger issues so yes\n",
      "\n",
      "\n",
      "I am in a relationship with my same sex partner which suffers from bipolar. Myself with depression and anxiety disorder. It's extremely tedious 90% of the time with the unpredictability of his emotions and my anxiety having a blast off that.\n",
      "\n",
      "\n",
      "Well, my wife is married to one (I suffer with depression, anxiety, and probably some other stuff), so I'd be hypocritical to say no...\n",
      "\n",
      "\n",
      "Yes because I suffer from depression/anxiety disorder. If I dated anyone \"normal\" (whatever the hell that is) I'd be bored.\n",
      "\n",
      "\n",
      "I have bipolar and my husband has severe anxiety. We celebrated our 13th wedding anniversary two days ago.\n",
      "\n",
      "\n",
      "Lovely and in prision for what  ????  I suffer with depression anxiety but it dont make me do  bad things to end up in jail and cry i hav mental illness\n",
      "\n",
      "\n",
      "My anxiety fuels my agitation and rage and that fuels my anxiety. It doesn't end. Just be very honest.\n",
      "\n",
      "\n",
      "I have depression and anxiety and it ruined my life\n",
      "\n",
      "\n",
      "I have anxiety and depression and I get very moody a week prior.\n",
      "\n",
      "\n",
      "I have bipolar, depression and anxiety NO MEDICATION & no fking insurance   \n",
      "\n",
      "\n",
      "Try\n",
      "\n",
      "Autism\n",
      "PTSD\n",
      "Anxiety\n",
      "Bipolar\n",
      "\n",
      "I think I'll die twenty years before I should :(\n",
      "\n",
      "\n",
      "That's the bloody problem is finding the right meds. I'm on one for bi polar and one for social anxiety and the socal anxiety ones are like bloody sex pills to mee\n",
      "\n",
      "\n",
      "I have Bipolar II, GAD, SAD, BPD, PTSD and MDD. Being borderline sucks. That combined with my anxiety makes the worthlessness seem even more scary.\n",
      "\n",
      "\n",
      "Yes you can be tested. It's a very long test as well some additional questions that get asked to go with it. I know bc I was ordered to take them and thats how I was diagnosed with borderline personality disorder, anxiety, depression, and PTSD.\n",
      "\n",
      "\n",
      "My Dr says its anxiety but I feel more like is have agoraphobia too. Its hard to figure out\n",
      "\n",
      "\n",
      "There is no \"test\" for social anxiety.\n",
      "\n",
      "\n"
     ]
    }
   ],
   "source": [
    "for i in range(20):\n",
    "    print(dataset1[dataset1['label']==1].iloc[i][0])\n",
    "    print('\\n')"
   ]
  },
  {
   "cell_type": "code",
   "execution_count": 22,
   "metadata": {
    "execution": {
     "iopub.execute_input": "2020-08-12T01:57:07.775476Z",
     "iopub.status.busy": "2020-08-12T01:57:07.774358Z",
     "iopub.status.idle": "2020-08-12T01:57:07.779545Z",
     "shell.execute_reply": "2020-08-12T01:57:07.778782Z"
    },
    "papermill": {
     "duration": 0.045754,
     "end_time": "2020-08-12T01:57:07.779682",
     "exception": false,
     "start_time": "2020-08-12T01:57:07.733928",
     "status": "completed"
    },
    "tags": []
   },
   "outputs": [
    {
     "data": {
      "text/html": [
       "<div>\n",
       "<style scoped>\n",
       "    .dataframe tbody tr th:only-of-type {\n",
       "        vertical-align: middle;\n",
       "    }\n",
       "\n",
       "    .dataframe tbody tr th {\n",
       "        vertical-align: top;\n",
       "    }\n",
       "\n",
       "    .dataframe thead th {\n",
       "        text-align: right;\n",
       "    }\n",
       "</style>\n",
       "<table border=\"1\" class=\"dataframe\">\n",
       "  <thead>\n",
       "    <tr style=\"text-align: right;\">\n",
       "      <th></th>\n",
       "      <th>Comments Text</th>\n",
       "      <th>label</th>\n",
       "    </tr>\n",
       "  </thead>\n",
       "  <tbody>\n",
       "    <tr>\n",
       "      <th>3</th>\n",
       "      <td>LONG ANSWER: Bipolar disease is caused by a ch...</td>\n",
       "      <td>1</td>\n",
       "    </tr>\n",
       "    <tr>\n",
       "      <th>14</th>\n",
       "      <td>Yes, I've been seeing psychiatrists for nearly...</td>\n",
       "      <td>1</td>\n",
       "    </tr>\n",
       "    <tr>\n",
       "      <th>20</th>\n",
       "      <td>The only problem I have is when I'm randomly  ...</td>\n",
       "      <td>1</td>\n",
       "    </tr>\n",
       "    <tr>\n",
       "      <th>29</th>\n",
       "      <td>No, you are NOT alone.  If my meds are not pro...</td>\n",
       "      <td>1</td>\n",
       "    </tr>\n",
       "    <tr>\n",
       "      <th>31</th>\n",
       "      <td>I too take Seroquel. It has done wonders for m...</td>\n",
       "      <td>1</td>\n",
       "    </tr>\n",
       "    <tr>\n",
       "      <th>...</th>\n",
       "      <td>...</td>\n",
       "      <td>...</td>\n",
       "    </tr>\n",
       "    <tr>\n",
       "      <th>7140</th>\n",
       "      <td>Please contact SADAG (south African depression...</td>\n",
       "      <td>1</td>\n",
       "    </tr>\n",
       "    <tr>\n",
       "      <th>7141</th>\n",
       "      <td>It gave me severe ataxia.  (ataxia = People wi...</td>\n",
       "      <td>1</td>\n",
       "    </tr>\n",
       "    <tr>\n",
       "      <th>7142</th>\n",
       "      <td>I have. Caused muscles to tense up swelling an...</td>\n",
       "      <td>1</td>\n",
       "    </tr>\n",
       "    <tr>\n",
       "      <th>7143</th>\n",
       "      <td>Lamictal is my miracle med.Only took me 26 yea...</td>\n",
       "      <td>1</td>\n",
       "    </tr>\n",
       "    <tr>\n",
       "      <th>7144</th>\n",
       "      <td>I take Wellbutrin, topamax, and buspar (antide...</td>\n",
       "      <td>1</td>\n",
       "    </tr>\n",
       "  </tbody>\n",
       "</table>\n",
       "<p>3060 rows × 2 columns</p>\n",
       "</div>"
      ],
      "text/plain": [
       "                                          Comments Text  label\n",
       "3     LONG ANSWER: Bipolar disease is caused by a ch...      1\n",
       "14    Yes, I've been seeing psychiatrists for nearly...      1\n",
       "20    The only problem I have is when I'm randomly  ...      1\n",
       "29    No, you are NOT alone.  If my meds are not pro...      1\n",
       "31    I too take Seroquel. It has done wonders for m...      1\n",
       "...                                                 ...    ...\n",
       "7140  Please contact SADAG (south African depression...      1\n",
       "7141  It gave me severe ataxia.  (ataxia = People wi...      1\n",
       "7142  I have. Caused muscles to tense up swelling an...      1\n",
       "7143  Lamictal is my miracle med.Only took me 26 yea...      1\n",
       "7144  I take Wellbutrin, topamax, and buspar (antide...      1\n",
       "\n",
       "[3060 rows x 2 columns]"
      ]
     },
     "execution_count": 22,
     "metadata": {},
     "output_type": "execute_result"
    }
   ],
   "source": [
    "dataset2[dataset2['label']==1]"
   ]
  },
  {
   "cell_type": "code",
   "execution_count": 23,
   "metadata": {
    "execution": {
     "iopub.execute_input": "2020-08-12T01:57:07.841641Z",
     "iopub.status.busy": "2020-08-12T01:57:07.840801Z",
     "iopub.status.idle": "2020-08-12T01:57:07.888370Z",
     "shell.execute_reply": "2020-08-12T01:57:07.889018Z"
    },
    "papermill": {
     "duration": 0.085312,
     "end_time": "2020-08-12T01:57:07.889198",
     "exception": false,
     "start_time": "2020-08-12T01:57:07.803886",
     "status": "completed"
    },
    "tags": []
   },
   "outputs": [
    {
     "name": "stdout",
     "output_type": "stream",
     "text": [
      "LONG ANSWER: Bipolar disease is caused by a chemical imbalance in the brain. It can be treated with medication and therapy. Typically people with bipolar disease have learned to compensate for it in unhealthy ways (illegal drug use, eating disorders, gambling, promiscuity, alcoholism, self harm, etc.) and therapy can assist them with overcoming these unhealthy \"coping mechanisms.\" In addition, they may need therapy that assists with rebuilding family relationships that the sufferer (while in a relapse state) has damaged. Bipolar disease often causes lability of emotional response and potentially self-damaging behaviors that come from that. They tend to have periods of mania/hypomania and depression that is severe. During mania, they may feel like they have more energy, be happier (without reason), have grandiose ideas of themself and their abilities, need less sleep, be much more sexual, and engage in risky behaviors without considering the consequences. During depression, they may be suicidal, incapable of caring for themself, engage in self-harm, have a hard time leaving their house/bed, and miss a lot of work. Depending on what \"type\" of Bipolar a person has (Or where they fall on the spectrum) determines quite often how serious their periods of mania/hypomania are and how long those occur...and how serious their depressive episodes are and how long those occur. Regardless, it's a difficult situation they live with constantly. Medication, typically, works to counterbalance the chemical imbalance in their brain (or offset the symptoms) so that they can function somewhat normally without huge highs and lows.\n",
      "\n",
      "\n",
      "Yes, I've been seeing psychiatrists for nearly 30 years.  First just depression, then cyclothymia, then bipolar and anxiety, then BPD.\n",
      "\n",
      "\n",
      "The only problem I have is when I'm randomly  put on a grave yard shift. That means I can't take my meds, as they make me so tired. I have 2 kids and cant just catch up on my sleep, and end up with anxiety and not being able to sleep, from not taking my meds. Being able to have a stable and normal shift all week makes my week 100x better than it would have if all shifts were different and there were random graves.\n",
      "\n",
      "\n",
      "No, you are NOT alone.  If my meds are not properly regulated, I have blinding rage outbursts.. I am cranky & bitchy... Everything gets on my nerves... I yell like a banshee... It is horrible.... You have to stay on top of the meds.\n",
      "\n",
      "\n",
      "I too take Seroquel. It has done wonders for my sleep cycle and I now get the sleep I need. I also take a high dose of Effexor  (antidepressant) and Buspar (for anxiety). This combination works well for me and this came to from years of trying other meds that didn't have the desired results. I suffer from bipolar 2, severe depression, and anxiety. \n",
      "The amount of medication seems excessive but maybe you can eliminate some if they aren't helping you. I'm not a Dr though so make sure you stop and start your meds with Dr's guidance. Good luck to you and I hope this helps. Wishing you peace and happiness.\n",
      "\n",
      "\n",
      "Its always hard getting a proper diagnosis. Often there are those who have more than one diagnosis. My kids have adhd bipolar with sczophernic tendicies.I myself am bipolar anxiety and ptsd insomnia so I do take a lot of pills I like u have a lot of physical conditions as well for which I take meds. The important thing is to let each doctor know what you are taking. Also be proactive know medicine side effects read up on them it gets confusing but the more u knw about them the more it's helps\n",
      "\n",
      "\n",
      "It's really just a matter of opinion. My therapist today said that there's two sides to depression, how you think, and the imbalance. I've been on seroquel for 8 years and due to insomnia I too only get 2-4 hours of sleep without it which is the leading cause of my issues (depression, phobia related anxiety, ADD, GAD). His way of putting it is that the prescription helps you put on a different pair of glasses until you can handle the sun again on your own. I really liked that.\n",
      "\n",
      "\n",
      "I was told to do this and it does work but here is a technique that at psychotherapist should advise you on for it to work. I and a fear of dying but it got me through a c-section and I was allowed to keep the band on. X\n",
      "\n",
      "\n",
      "It's where you put an elastic band (like a rubber band or hair tie) on your wrist and when you start to feel anxious/nervous (or any other bad habit/emotion) you snap the band against your wrist. It didn't work for me because I have an extremely high pain tolerance.\n",
      "\n",
      "\n",
      "Can't you put the animals in crates and close the bedroom door so you guys could sleep together? I know crate training takes time but in the end you will both come to find out the less the animals disturb your sleep the better you both feel.\n",
      "\n",
      "\n",
      "Firstly you are definately entitled to vent. And i can imagine it would be extremely difficult to be in that situation. Its not fair that you are working so hard and losing sleep and are clearly struggling because you're exhausted. Can you make different arangements for the animals to sleep, maybe in another room or something or maybe you could try a different sleeping arangement. I think it would be a good idea to see a psychologist or consellor for yourself as well. And try talking to him about how everything is affecting you. Maybe you could go back to the doctor or a counsellor together to try to find a way to make things work better. Its great that he has made improvements though.\n",
      "\n",
      "\n",
      "Has he tried therapy by chance? Therapy drained me, and I ended up dropping out. I was in group therapy, but I also have PTSD and severe anxiety along with BP. I couldn't take on hearing other's traumatic situations anymore. It did teach me coping skills and renewed coping skills I'd forgot I had tho. I've NEVER used my illness as an excuse to act out wrongly. Unfortunately I do still get flustered from time to time and have outbursts, (usually over the smallest things) before I can help myself but, I try and stop it as soon as I realize it, and I own up to it. I admit I was wrong, and apologize. For me it's about being very vigilant of myself at all times. Especially since I don't do pharmaceuticals. Perhaps therapy and learning such skills could benefit him? I'm sure he doesn't mean to be that way..it's just as exhausting for him as well, believe it or not. Wishing you strength and courage in working thru this.   \n",
      "\n",
      "\n",
      "My wife left me about 9 months ago after a 8 year relationship. decided to jist pack up and leave on Christmas without warning because she couldn't deal with my anxiety and depression. It still hurts me but it will get better, you have to believe.  Hang in there.\n",
      "\n",
      "\n",
      "I myself have a mental illness, both of my parents have a mental illness, I know my father's mother had several mental illnesses. I was married to a man with bipolar and mild schizophrenia. My current husband has anxiety, but I couldn't go through a spouse with bipolar again even though I have it myself.\n",
      "\n",
      "\n",
      "Hurtful question..n alot of insensitive comments. Its not like we can help it.  So on top of hereditary mental health issues...i have to be forever single?  That works wonders on depression n anxiety. Thanks. :'(\n",
      "\n",
      "\n",
      "People with mental illness are jus like the next person. They jus have to take medicine. I have bipolar disorder and anxiety. A person learns to cope and people learn to be with them or give up on them.\n",
      "\n",
      "\n",
      "Yes I can see no reason why not. Mental illness doesnt equate to danger or misery. Being an arsehole on the other hand will gauruntee misery\n",
      "\n",
      "\n",
      "My boyfriend has bipolar anxiety and anger issues so yes\n",
      "\n",
      "\n",
      "I am in a relationship with my same sex partner which suffers from bipolar. Myself with depression and anxiety disorder. It's extremely tedious 90% of the time with the unpredictability of his emotions and my anxiety having a blast off that.\n",
      "\n",
      "\n",
      "Shame i thought I'd married someone kind and gentle. But after working non stop. Ending up taking coke to keep me going.  I was banned from my house my buisness ended up in jail my choice to try and get help. The only one to stand by me was my daughter and she is only 12years old. It's hurts more than any thing. Yes I have depression and anxiety. But I hid it well.  Broken hearted is a understatement. But if i can help anyone going thru the same i would\n",
      "\n",
      "\n"
     ]
    }
   ],
   "source": [
    "for i in range(20):\n",
    "    print(dataset2[dataset2['label']==1].iloc[i][0])\n",
    "    print('\\n')"
   ]
  },
  {
   "cell_type": "markdown",
   "execution_count": null,
   "metadata": {
    "papermill": {
     "duration": 0.02463,
     "end_time": "2020-08-12T01:57:07.939386",
     "exception": false,
     "start_time": "2020-08-12T01:57:07.914756",
     "status": "completed"
    },
    "tags": []
   },
   "source": [
    "As you can see, NMF delivers better results because it's more specific and really determines depressive/anxious comments meanwhile LDA labels all entries that contain depression/anxiety related words and it makes the labeling more general. **Let's keep NMF's results.**\n",
    "\n",
    "As you can see above, now the dataset is properly labeled; the label 1 - Depression & Anxiety-  is pretty coherent. Even when label 0 still contains text with relevant words, if you deep dive into it you'll notice the entries don't seem to be comments related to Depression & Anxiety. Said that, let's move on: It's time now to classify tweets."
   ]
  },
  {
   "cell_type": "markdown",
   "execution_count": null,
   "metadata": {
    "papermill": {
     "duration": 0.084975,
     "end_time": "2020-08-12T01:57:08.049257",
     "exception": false,
     "start_time": "2020-08-12T01:57:07.964282",
     "status": "completed"
    },
    "tags": []
   },
   "source": [
    "# Data preprocessing for Topic Classification\n",
    "\n",
    "As you could see before, our text processing pipeline did very well its task, so we'll use it again to feed and fit our classifier."
   ]
  },
  {
   "cell_type": "code",
   "execution_count": 24,
   "metadata": {
    "execution": {
     "iopub.execute_input": "2020-08-12T01:57:08.121131Z",
     "iopub.status.busy": "2020-08-12T01:57:08.119892Z",
     "iopub.status.idle": "2020-08-12T01:57:08.135295Z",
     "shell.execute_reply": "2020-08-12T01:57:08.134305Z"
    },
    "papermill": {
     "duration": 0.061782,
     "end_time": "2020-08-12T01:57:08.135535",
     "exception": false,
     "start_time": "2020-08-12T01:57:08.073753",
     "status": "completed"
    },
    "tags": []
   },
   "outputs": [],
   "source": [
    "output = []\n",
    "for i in range(len(data_lemmatized)):\n",
    "    output.append(\" \".join(data_lemmatized[i]))\n",
    "output = pd.DataFrame(output,columns=['Text'])\n",
    "output['label'] = df_document_topics['dominant_topic']"
   ]
  },
  {
   "cell_type": "markdown",
   "execution_count": null,
   "metadata": {
    "papermill": {
     "duration": 0.027501,
     "end_time": "2020-08-12T01:57:08.190017",
     "exception": false,
     "start_time": "2020-08-12T01:57:08.162516",
     "status": "completed"
    },
    "tags": []
   },
   "source": [
    "# Model Selection for Topic Classifier\n",
    "\n",
    "Alright, we've been doing some topic modeling to finally reach this point. Essentially what we'll do is to train several vectorizers and supervised ML models to get a very accurate result to then predict tweets' topics from a dataset that we'll be using later on this notebook. Btw, we'll skip Random Forest model because it's known to overfit the text data and deliver poor metrics."
   ]
  },
  {
   "cell_type": "code",
   "execution_count": 25,
   "metadata": {
    "execution": {
     "iopub.execute_input": "2020-08-12T01:57:08.250899Z",
     "iopub.status.busy": "2020-08-12T01:57:08.247950Z",
     "iopub.status.idle": "2020-08-12T01:57:08.254673Z",
     "shell.execute_reply": "2020-08-12T01:57:08.253890Z"
    },
    "papermill": {
     "duration": 0.03993,
     "end_time": "2020-08-12T01:57:08.254816",
     "exception": false,
     "start_time": "2020-08-12T01:57:08.214886",
     "status": "completed"
    },
    "tags": []
   },
   "outputs": [],
   "source": [
    "#Splitting our data\n",
    "X = output['Text']\n",
    "y = output['label']\n",
    "X_train, X_test, y_train, y_test = train_test_split(X, y, random_state=0)"
   ]
  },
  {
   "cell_type": "code",
   "execution_count": 26,
   "metadata": {
    "execution": {
     "iopub.execute_input": "2020-08-12T01:57:08.311866Z",
     "iopub.status.busy": "2020-08-12T01:57:08.310695Z",
     "iopub.status.idle": "2020-08-12T01:57:08.315848Z",
     "shell.execute_reply": "2020-08-12T01:57:08.315016Z"
    },
    "papermill": {
     "duration": 0.036452,
     "end_time": "2020-08-12T01:57:08.315995",
     "exception": false,
     "start_time": "2020-08-12T01:57:08.279543",
     "status": "completed"
    },
    "tags": []
   },
   "outputs": [
    {
     "name": "stdout",
     "output_type": "stream",
     "text": [
      "5358 1787 5358 1787\n"
     ]
    }
   ],
   "source": [
    "#checking if everything went OK.\n",
    "print (len(X_train),len(X_test),len(y_train),len(y_test))"
   ]
  },
  {
   "cell_type": "markdown",
   "execution_count": null,
   "metadata": {
    "papermill": {
     "duration": 0.025022,
     "end_time": "2020-08-12T01:57:08.365633",
     "exception": false,
     "start_time": "2020-08-12T01:57:08.340611",
     "status": "completed"
    },
    "tags": []
   },
   "source": [
    "## SGD Classifier\n",
    "\n",
    "We'll start with this classifier, which is very famous at Kaggle because of very good predictions. Let's implement a pipeline to get the best parameters."
   ]
  },
  {
   "cell_type": "code",
   "execution_count": 27,
   "metadata": {
    "execution": {
     "iopub.execute_input": "2020-08-12T01:57:08.427492Z",
     "iopub.status.busy": "2020-08-12T01:57:08.426519Z",
     "iopub.status.idle": "2020-08-12T01:57:08.430716Z",
     "shell.execute_reply": "2020-08-12T01:57:08.430014Z"
    },
    "papermill": {
     "duration": 0.039775,
     "end_time": "2020-08-12T01:57:08.430872",
     "exception": false,
     "start_time": "2020-08-12T01:57:08.391097",
     "status": "completed"
    },
    "tags": []
   },
   "outputs": [],
   "source": [
    "# Defining the pipeline - a text feature extractor with a classifier\n",
    "pipeline = Pipeline([\n",
    "    ('vect', CountVectorizer()),\n",
    "    ('tfidf', TfidfTransformer()),\n",
    "    ('clf', SGDClassifier()),\n",
    "])\n",
    "\n",
    "# uncommenting more parameters will give better exploring power but will increase processing time exponentially. Only do if you have hardware enough.\n",
    "\n",
    "parameters = {\n",
    "    'vect__max_df': (0.5, 0.75),\n",
    "    # 'vect__max_features': (None, 5000, 10000, 50000),\n",
    "    'vect__ngram_range': ((1,1),(1,2),(1,3)),  #Tried already with bigrams, trigrams and the best result always was achieved with (1,1) for all models so, in order to reduce computing time, only will keep this.\n",
    "     'tfidf__use_idf': (True, False),\n",
    "     'tfidf__norm': ('l1', 'l2'),\n",
    "    'clf__max_iter': (50,100),\n",
    "    'clf__alpha': (0.00001, 0.000001,0.0000001,),\n",
    "    'clf__penalty': ('l2', 'elasticnet'),\n",
    "}"
   ]
  },
  {
   "cell_type": "code",
   "execution_count": 28,
   "metadata": {
    "execution": {
     "iopub.execute_input": "2020-08-12T01:57:08.491536Z",
     "iopub.status.busy": "2020-08-12T01:57:08.490252Z",
     "iopub.status.idle": "2020-08-12T02:05:39.518474Z",
     "shell.execute_reply": "2020-08-12T02:05:39.517717Z"
    },
    "papermill": {
     "duration": 511.0631,
     "end_time": "2020-08-12T02:05:39.518678",
     "exception": false,
     "start_time": "2020-08-12T01:57:08.455578",
     "status": "completed"
    },
    "tags": []
   },
   "outputs": [
    {
     "name": "stdout",
     "output_type": "stream",
     "text": [
      "Performing grid search...\n",
      "pipeline: ['vect', 'tfidf', 'clf']\n",
      "parameters:\n",
      "{'clf__alpha': (1e-05, 1e-06, 1e-07),\n",
      " 'clf__max_iter': (50, 100),\n",
      " 'clf__penalty': ('l2', 'elasticnet'),\n",
      " 'tfidf__norm': ('l1', 'l2'),\n",
      " 'tfidf__use_idf': (True, False),\n",
      " 'vect__max_df': (0.5, 0.75),\n",
      " 'vect__ngram_range': ((1, 1), (1, 2), (1, 3))}\n",
      "Fitting 5 folds for each of 288 candidates, totalling 1440 fits\n"
     ]
    },
    {
     "name": "stderr",
     "output_type": "stream",
     "text": [
      "[Parallel(n_jobs=-1)]: Using backend LokyBackend with 4 concurrent workers.\n",
      "[Parallel(n_jobs=-1)]: Done  42 tasks      | elapsed:   16.9s\n",
      "[Parallel(n_jobs=-1)]: Done 192 tasks      | elapsed:  1.2min\n",
      "[Parallel(n_jobs=-1)]: Done 442 tasks      | elapsed:  2.6min\n",
      "[Parallel(n_jobs=-1)]: Done 792 tasks      | elapsed:  4.7min\n",
      "[Parallel(n_jobs=-1)]: Done 1242 tasks      | elapsed:  7.3min\n",
      "[Parallel(n_jobs=-1)]: Done 1440 out of 1440 | elapsed:  8.5min finished\n"
     ]
    },
    {
     "name": "stdout",
     "output_type": "stream",
     "text": [
      "done in 511.016s\n",
      "\n",
      "Best score: 0.981\n",
      "Best parameters set:\n",
      "\tclf__alpha: 1e-05\n",
      "\tclf__max_iter: 50\n",
      "\tclf__penalty: 'l2'\n",
      "\ttfidf__norm: 'l1'\n",
      "\ttfidf__use_idf: False\n",
      "\tvect__max_df: 0.5\n",
      "\tvect__ngram_range: (1, 2)\n"
     ]
    }
   ],
   "source": [
    "grid_search = GridSearchCV(pipeline, parameters, n_jobs=-1, verbose=1)\n",
    "print(\"Performing grid search...\")\n",
    "print(\"pipeline:\", [name for name, _ in pipeline.steps])\n",
    "print(\"parameters:\")\n",
    "pprint(parameters)\n",
    "t0 = time()\n",
    "grid_search.fit(X_train, y_train)\n",
    "print(\"done in %0.3fs\" % (time() - t0))\n",
    "print()\n",
    "\n",
    "print(\"Best score: %0.3f\" % grid_search.best_score_)\n",
    "print(\"Best parameters set:\")\n",
    "best_parameters = grid_search.best_estimator_.get_params()\n",
    "for param_name in sorted(parameters.keys()):\n",
    "    print(\"\\t%s: %r\" % (param_name, best_parameters[param_name]))"
   ]
  },
  {
   "cell_type": "markdown",
   "execution_count": null,
   "metadata": {
    "papermill": {
     "duration": 0.025116,
     "end_time": "2020-08-12T02:05:39.569038",
     "exception": false,
     "start_time": "2020-08-12T02:05:39.543922",
     "status": "completed"
    },
    "tags": []
   },
   "source": [
    "As you noticed above, the classifier reached an acceptable score. Let's see how it behaves in the test data."
   ]
  },
  {
   "cell_type": "code",
   "execution_count": 29,
   "metadata": {
    "execution": {
     "iopub.execute_input": "2020-08-12T02:05:39.645098Z",
     "iopub.status.busy": "2020-08-12T02:05:39.639971Z",
     "iopub.status.idle": "2020-08-12T02:05:40.765572Z",
     "shell.execute_reply": "2020-08-12T02:05:40.764680Z"
    },
    "papermill": {
     "duration": 1.17106,
     "end_time": "2020-08-12T02:05:40.765724",
     "exception": false,
     "start_time": "2020-08-12T02:05:39.594664",
     "status": "completed"
    },
    "tags": []
   },
   "outputs": [],
   "source": [
    "vect = CountVectorizer(max_df=0.5,  ngram_range=(1,2))\n",
    "\n",
    "X_train_vectorized = vect.fit_transform(X_train)\n",
    "X_test_vectorized = vect.transform(X_test)\n",
    "\n",
    "transformer = TfidfTransformer(smooth_idf=True,use_idf=False,norm='l1')\n",
    "X_train_vectorized = transformer.fit_transform(X_train_vectorized)\n",
    "X_test_vectorized = transformer.transform(X_test_vectorized)\n",
    "\n",
    "\n",
    "clf = SGDClassifier(alpha=1e-05,max_iter=100,penalty='elasticnet').fit(X_train_vectorized, y_train)\n",
    "y_predicted = clf.predict(X_test_vectorized)"
   ]
  },
  {
   "cell_type": "code",
   "execution_count": 30,
   "metadata": {
    "execution": {
     "iopub.execute_input": "2020-08-12T02:05:40.826778Z",
     "iopub.status.busy": "2020-08-12T02:05:40.825919Z",
     "iopub.status.idle": "2020-08-12T02:05:40.842271Z",
     "shell.execute_reply": "2020-08-12T02:05:40.841270Z"
    },
    "papermill": {
     "duration": 0.051132,
     "end_time": "2020-08-12T02:05:40.842489",
     "exception": false,
     "start_time": "2020-08-12T02:05:40.791357",
     "status": "completed"
    },
    "tags": []
   },
   "outputs": [
    {
     "name": "stdout",
     "output_type": "stream",
     "text": [
      "Precision: 89.12%\n",
      "Accuracy: 97.82%\n",
      "Recall: 94.25%\n",
      "AUC score: 96.29%\n"
     ]
    }
   ],
   "source": [
    "print(\"Precision: {:.2f}%\".format(100 * precision_score(y_test, y_predicted)))\n",
    "print(\"Accuracy: {:.2f}%\".format(100 * accuracy_score(y_test, y_predicted)))\n",
    "print(\"Recall: {:.2f}%\".format(100 * recall_score(y_test, y_predicted)))\n",
    "print(\"AUC score: {:.2f}%\".format(100 * roc_auc_score(y_test, y_predicted)))"
   ]
  },
  {
   "cell_type": "markdown",
   "execution_count": null,
   "metadata": {
    "papermill": {
     "duration": 0.025595,
     "end_time": "2020-08-12T02:05:40.895023",
     "exception": false,
     "start_time": "2020-08-12T02:05:40.869428",
     "status": "completed"
    },
    "tags": []
   },
   "source": [
    "Not bad, it's our first model to be tested. Let's see its confusion matrix."
   ]
  },
  {
   "cell_type": "code",
   "execution_count": 31,
   "metadata": {
    "execution": {
     "iopub.execute_input": "2020-08-12T02:05:40.956992Z",
     "iopub.status.busy": "2020-08-12T02:05:40.956144Z",
     "iopub.status.idle": "2020-08-12T02:05:41.259056Z",
     "shell.execute_reply": "2020-08-12T02:05:41.258268Z"
    },
    "papermill": {
     "duration": 0.338299,
     "end_time": "2020-08-12T02:05:41.259194",
     "exception": false,
     "start_time": "2020-08-12T02:05:40.920895",
     "status": "completed"
    },
    "tags": []
   },
   "outputs": [
    {
     "data": {
      "text/plain": [
       "<matplotlib.axes._subplots.AxesSubplot at 0x7fe90382b190>"
      ]
     },
     "execution_count": 31,
     "metadata": {},
     "output_type": "execute_result"
    },
    {
     "data": {
      "image/png": "[encoded data removed]",
      "text/plain": [
       "<Figure size 1080x1080 with 2 Axes>"
      ]
     },
     "metadata": {
      "needs_background": "light"
     },
     "output_type": "display_data"
    }
   ],
   "source": [
    "matrix = confusion_matrix(y_test, y_predicted)\n",
    "conf_matrix = pd.DataFrame(matrix, index = ['Other','Depression & Anxiety'],columns = ['Other','Depression & Anxiety'])\n",
    "#Normalizing\n",
    "conf_matrix = conf_matrix.astype('float') / conf_matrix.sum(axis=1)[:, np.newaxis]\n",
    "plt.figure(figsize = (15,15))\n",
    "sns.heatmap(conf_matrix, annot=True, annot_kws={\"size\": 15})"
   ]
  },
  {
   "cell_type": "markdown",
   "execution_count": null,
   "metadata": {
    "papermill": {
     "duration": 0.0262,
     "end_time": "2020-08-12T02:05:41.312785",
     "exception": false,
     "start_time": "2020-08-12T02:05:41.286585",
     "status": "completed"
    },
    "tags": []
   },
   "source": [
    "Seems to have a very good generalization hability. Let's see some other models."
   ]
  },
  {
   "cell_type": "markdown",
   "execution_count": null,
   "metadata": {
    "papermill": {
     "duration": 0.025734,
     "end_time": "2020-08-12T02:05:41.365443",
     "exception": false,
     "start_time": "2020-08-12T02:05:41.339709",
     "status": "completed"
    },
    "tags": []
   },
   "source": [
    "## Support Vector Classifier\n",
    "\n",
    "SVC is by default a very good model, let's see how it behaves in our pipeline."
   ]
  },
  {
   "cell_type": "code",
   "execution_count": 32,
   "metadata": {
    "execution": {
     "iopub.execute_input": "2020-08-12T02:05:41.429217Z",
     "iopub.status.busy": "2020-08-12T02:05:41.428339Z",
     "iopub.status.idle": "2020-08-12T02:05:41.432342Z",
     "shell.execute_reply": "2020-08-12T02:05:41.431556Z"
    },
    "papermill": {
     "duration": 0.040959,
     "end_time": "2020-08-12T02:05:41.432496",
     "exception": false,
     "start_time": "2020-08-12T02:05:41.391537",
     "status": "completed"
    },
    "tags": []
   },
   "outputs": [],
   "source": [
    "pipeline = Pipeline([\n",
    "    ('vect', CountVectorizer()),\n",
    "    ('tfidf', TfidfTransformer()),\n",
    "    ('clf', SVC()),\n",
    "])\n",
    "\n",
    "parameters = {\n",
    "    'vect__max_df': (0.5,),\n",
    "    'vect__ngram_range': ((1,1),(1,2),(1,3)),\n",
    "    'clf__gamma': (1,0.1),\n",
    "     'tfidf__use_idf': (True, False),\n",
    "     'tfidf__norm': ('l1', 'l2'),\n",
    "    'clf__max_iter': (100,200),\n",
    "    \"clf__C\": [1,10,100],\n",
    "}"
   ]
  },
  {
   "cell_type": "code",
   "execution_count": 33,
   "metadata": {
    "execution": {
     "iopub.execute_input": "2020-08-12T02:05:41.499420Z",
     "iopub.status.busy": "2020-08-12T02:05:41.497197Z",
     "iopub.status.idle": "2020-08-12T02:11:46.784566Z",
     "shell.execute_reply": "2020-08-12T02:11:46.785888Z"
    },
    "papermill": {
     "duration": 365.327526,
     "end_time": "2020-08-12T02:11:46.786179",
     "exception": false,
     "start_time": "2020-08-12T02:05:41.458653",
     "status": "completed"
    },
    "tags": []
   },
   "outputs": [
    {
     "name": "stdout",
     "output_type": "stream",
     "text": [
      "Performing grid search...\n",
      "pipeline: ['vect', 'tfidf', 'clf']\n",
      "parameters:\n",
      "{'clf__C': [1, 10, 100],\n",
      " 'clf__gamma': (1, 0.1),\n",
      " 'clf__max_iter': (100, 200),\n",
      " 'tfidf__norm': ('l1', 'l2'),\n",
      " 'tfidf__use_idf': (True, False),\n",
      " 'vect__max_df': (0.5,),\n",
      " 'vect__ngram_range': ((1, 1), (1, 2), (1, 3))}\n",
      "Fitting 5 folds for each of 144 candidates, totalling 720 fits\n"
     ]
    },
    {
     "name": "stderr",
     "output_type": "stream",
     "text": [
      "[Parallel(n_jobs=-1)]: Using backend LokyBackend with 4 concurrent workers.\n",
      "[Parallel(n_jobs=-1)]: Done  42 tasks      | elapsed:   19.4s\n",
      "[Parallel(n_jobs=-1)]: Done 192 tasks      | elapsed:  1.6min\n",
      "[Parallel(n_jobs=-1)]: Done 442 tasks      | elapsed:  3.7min\n",
      "[Parallel(n_jobs=-1)]: Done 720 out of 720 | elapsed:  6.1min finished\n"
     ]
    },
    {
     "name": "stdout",
     "output_type": "stream",
     "text": [
      "done in 365.273s\n",
      "\n",
      "Best score: 0.979\n",
      "Best parameters set:\n",
      "\tclf__C: 1\n",
      "\tclf__gamma: 0.1\n",
      "\tclf__max_iter: 200\n",
      "\ttfidf__norm: 'l2'\n",
      "\ttfidf__use_idf: False\n",
      "\tvect__max_df: 0.5\n",
      "\tvect__ngram_range: (1, 1)\n"
     ]
    }
   ],
   "source": [
    "grid_search = GridSearchCV(pipeline, parameters, n_jobs=-1, verbose=1)\n",
    "print(\"Performing grid search...\")\n",
    "print(\"pipeline:\", [name for name, _ in pipeline.steps])\n",
    "print(\"parameters:\")\n",
    "pprint(parameters)\n",
    "t0 = time()\n",
    "grid_search.fit(X_train, y_train)\n",
    "print(\"done in %0.3fs\" % (time() - t0))\n",
    "print()\n",
    "\n",
    "print(\"Best score: %0.3f\" % grid_search.best_score_)\n",
    "print(\"Best parameters set:\")\n",
    "best_parameters = grid_search.best_estimator_.get_params()\n",
    "for param_name in sorted(parameters.keys()):\n",
    "    print(\"\\t%s: %r\" % (param_name, best_parameters[param_name]))"
   ]
  },
  {
   "cell_type": "markdown",
   "execution_count": null,
   "metadata": {
    "papermill": {
     "duration": 0.026949,
     "end_time": "2020-08-12T02:11:46.840821",
     "exception": false,
     "start_time": "2020-08-12T02:11:46.813872",
     "status": "completed"
    },
    "tags": []
   },
   "source": [
    "It reached intermediate metrics, let's see how it performs on the test data."
   ]
  },
  {
   "cell_type": "code",
   "execution_count": 34,
   "metadata": {
    "execution": {
     "iopub.execute_input": "2020-08-12T02:11:46.936624Z",
     "iopub.status.busy": "2020-08-12T02:11:46.915473Z",
     "iopub.status.idle": "2020-08-12T02:11:47.833777Z",
     "shell.execute_reply": "2020-08-12T02:11:47.834403Z"
    },
    "papermill": {
     "duration": 0.966515,
     "end_time": "2020-08-12T02:11:47.834627",
     "exception": false,
     "start_time": "2020-08-12T02:11:46.868112",
     "status": "completed"
    },
    "tags": []
   },
   "outputs": [],
   "source": [
    "vect = CountVectorizer(max_df=0.5,  ngram_range=(1,1))\n",
    "\n",
    "X_train_vectorized = vect.fit_transform(X_train)\n",
    "X_test_vectorized = vect.transform(X_test)\n",
    "\n",
    "#transformer = TfidfTransformer(smooth_idf=True,use_idf=False,norm='l1')\n",
    "#X_train_vectorized = transformer.fit_transform(X_train_vectorized)\n",
    "#X_test_vectorized = transformer.transform(X_test_vectorized)\n",
    "\n",
    "clf = SVC(C=1,max_iter=200,gamma=0.1).fit(X_train_vectorized, y_train)\n",
    "y_predicted = clf.predict(X_test_vectorized)"
   ]
  },
  {
   "cell_type": "code",
   "execution_count": 35,
   "metadata": {
    "execution": {
     "iopub.execute_input": "2020-08-12T02:11:47.898984Z",
     "iopub.status.busy": "2020-08-12T02:11:47.897726Z",
     "iopub.status.idle": "2020-08-12T02:11:47.912090Z",
     "shell.execute_reply": "2020-08-12T02:11:47.911326Z"
    },
    "papermill": {
     "duration": 0.050525,
     "end_time": "2020-08-12T02:11:47.912236",
     "exception": false,
     "start_time": "2020-08-12T02:11:47.861711",
     "status": "completed"
    },
    "tags": []
   },
   "outputs": [
    {
     "name": "stdout",
     "output_type": "stream",
     "text": [
      "Precision: 87.77%\n",
      "Accuracy: 97.03%\n",
      "Recall: 88.94%\n",
      "AUC score: 93.57%\n"
     ]
    }
   ],
   "source": [
    "print(\"Precision: {:.2f}%\".format(100 * precision_score(y_test, y_predicted)))\n",
    "print(\"Accuracy: {:.2f}%\".format(100 * accuracy_score(y_test, y_predicted)))\n",
    "print(\"Recall: {:.2f}%\".format(100 * recall_score(y_test, y_predicted)))\n",
    "print(\"AUC score: {:.2f}%\".format(100 * roc_auc_score(y_test, y_predicted)))"
   ]
  },
  {
   "cell_type": "code",
   "execution_count": 36,
   "metadata": {
    "execution": {
     "iopub.execute_input": "2020-08-12T02:11:47.976258Z",
     "iopub.status.busy": "2020-08-12T02:11:47.975369Z",
     "iopub.status.idle": "2020-08-12T02:11:48.224996Z",
     "shell.execute_reply": "2020-08-12T02:11:48.224095Z"
    },
    "papermill": {
     "duration": 0.285589,
     "end_time": "2020-08-12T02:11:48.225147",
     "exception": false,
     "start_time": "2020-08-12T02:11:47.939558",
     "status": "completed"
    },
    "tags": []
   },
   "outputs": [
    {
     "data": {
      "text/plain": [
       "<matplotlib.axes._subplots.AxesSubplot at 0x7fe903ecce10>"
      ]
     },
     "execution_count": 36,
     "metadata": {},
     "output_type": "execute_result"
    },
    {
     "data": {
      "image/png": "[encoded data removed]",
      "text/plain": [
       "<Figure size 1080x1080 with 2 Axes>"
      ]
     },
     "metadata": {
      "needs_background": "light"
     },
     "output_type": "display_data"
    }
   ],
   "source": [
    "matrix = confusion_matrix(y_test, y_predicted)\n",
    "conf_matrix = pd.DataFrame(matrix, index = ['Other','Depression & Anxiety'],columns = ['Other','Depression & Anxiety'])\n",
    "#Normalizing\n",
    "conf_matrix = conf_matrix.astype('float') / conf_matrix.sum(axis=1)[:, np.newaxis]\n",
    "plt.figure(figsize = (15,15))\n",
    "sns.heatmap(conf_matrix, annot=True, annot_kws={\"size\": 15})"
   ]
  },
  {
   "cell_type": "markdown",
   "execution_count": null,
   "metadata": {
    "papermill": {
     "duration": 0.0277,
     "end_time": "2020-08-12T02:11:48.280856",
     "exception": false,
     "start_time": "2020-08-12T02:11:48.253156",
     "status": "completed"
    },
    "tags": []
   },
   "source": [
    "Terrible metrics, huh? We can't deal with those FPs and FNs. What I think is that we're implementing too complex models and that's why they're overfitting the data. Let's try with one of the most simple models out there."
   ]
  },
  {
   "cell_type": "markdown",
   "execution_count": null,
   "metadata": {
    "papermill": {
     "duration": 0.027881,
     "end_time": "2020-08-12T02:11:48.337558",
     "exception": false,
     "start_time": "2020-08-12T02:11:48.309677",
     "status": "completed"
    },
    "tags": []
   },
   "source": [
    "## Logistic Regression Classifier"
   ]
  },
  {
   "cell_type": "code",
   "execution_count": 37,
   "metadata": {
    "execution": {
     "iopub.execute_input": "2020-08-12T02:11:48.403353Z",
     "iopub.status.busy": "2020-08-12T02:11:48.402243Z",
     "iopub.status.idle": "2020-08-12T02:11:48.405983Z",
     "shell.execute_reply": "2020-08-12T02:11:48.405203Z"
    },
    "papermill": {
     "duration": 0.040548,
     "end_time": "2020-08-12T02:11:48.406118",
     "exception": false,
     "start_time": "2020-08-12T02:11:48.365570",
     "status": "completed"
    },
    "tags": []
   },
   "outputs": [],
   "source": [
    "pipeline = Pipeline([\n",
    "    ('vect', CountVectorizer()),\n",
    "    ('tfidf', TfidfTransformer()),\n",
    "    ('clf', LogisticRegression()),\n",
    "])\n",
    "\n",
    "parameters = {\n",
    "    'vect__max_df': (0.5, 0.75, 1.0),\n",
    "    # 'vect__max_features': (None, 5000, 10000, 50000),\n",
    "    'vect__ngram_range': ((1,2),(1,3),),\n",
    "     'tfidf__use_idf': (True, False),\n",
    "     #'tfidf__norm': ('l1', 'l2'),\n",
    "    'clf__max_iter': (100,),\n",
    "    \"clf__C\": [0.1, 1, 10, 100,1000],\n",
    "}"
   ]
  },
  {
   "cell_type": "code",
   "execution_count": 38,
   "metadata": {
    "execution": {
     "iopub.execute_input": "2020-08-12T02:11:48.473910Z",
     "iopub.status.busy": "2020-08-12T02:11:48.472953Z",
     "iopub.status.idle": "2020-08-12T02:16:42.904952Z",
     "shell.execute_reply": "2020-08-12T02:16:42.903781Z"
    },
    "papermill": {
     "duration": 294.470984,
     "end_time": "2020-08-12T02:16:42.905122",
     "exception": false,
     "start_time": "2020-08-12T02:11:48.434138",
     "status": "completed"
    },
    "tags": []
   },
   "outputs": [
    {
     "name": "stdout",
     "output_type": "stream",
     "text": [
      "Performing grid search...\n",
      "pipeline: ['vect', 'tfidf', 'clf']\n",
      "parameters:\n",
      "{'clf__C': [0.1, 1, 10, 100, 1000],\n",
      " 'clf__max_iter': (100,),\n",
      " 'tfidf__use_idf': (True, False),\n",
      " 'vect__max_df': (0.5, 0.75, 1.0),\n",
      " 'vect__ngram_range': ((1, 2), (1, 3))}\n",
      "Fitting 5 folds for each of 60 candidates, totalling 300 fits\n"
     ]
    },
    {
     "name": "stderr",
     "output_type": "stream",
     "text": [
      "[Parallel(n_jobs=-1)]: Using backend LokyBackend with 4 concurrent workers.\n",
      "[Parallel(n_jobs=-1)]: Done  42 tasks      | elapsed:   26.5s\n",
      "[Parallel(n_jobs=-1)]: Done 192 tasks      | elapsed:  2.7min\n",
      "[Parallel(n_jobs=-1)]: Done 300 out of 300 | elapsed:  4.9min finished\n"
     ]
    },
    {
     "name": "stdout",
     "output_type": "stream",
     "text": [
      "done in 294.422s\n",
      "\n",
      "Best score: 0.981\n",
      "Best parameters set:\n",
      "\tclf__C: 10\n",
      "\tclf__max_iter: 100\n",
      "\ttfidf__use_idf: False\n",
      "\tvect__max_df: 0.5\n",
      "\tvect__ngram_range: (1, 2)\n"
     ]
    }
   ],
   "source": [
    "grid_search = GridSearchCV(pipeline, parameters, n_jobs=-1, verbose=1)\n",
    "print(\"Performing grid search...\")\n",
    "print(\"pipeline:\", [name for name, _ in pipeline.steps])\n",
    "print(\"parameters:\")\n",
    "pprint(parameters)\n",
    "t0 = time()\n",
    "grid_search.fit(X_train, y_train)\n",
    "print(\"done in %0.3fs\" % (time() - t0))\n",
    "print()\n",
    "\n",
    "print(\"Best score: %0.3f\" % grid_search.best_score_)\n",
    "print(\"Best parameters set:\")\n",
    "best_parameters = grid_search.best_estimator_.get_params()\n",
    "for param_name in sorted(parameters.keys()):\n",
    "    print(\"\\t%s: %r\" % (param_name, best_parameters[param_name]))"
   ]
  },
  {
   "cell_type": "code",
   "execution_count": 39,
   "metadata": {
    "execution": {
     "iopub.execute_input": "2020-08-12T02:16:42.982579Z",
     "iopub.status.busy": "2020-08-12T02:16:42.977378Z",
     "iopub.status.idle": "2020-08-12T02:16:45.141044Z",
     "shell.execute_reply": "2020-08-12T02:16:45.140357Z"
    },
    "papermill": {
     "duration": 2.20682,
     "end_time": "2020-08-12T02:16:45.141189",
     "exception": false,
     "start_time": "2020-08-12T02:16:42.934369",
     "status": "completed"
    },
    "tags": []
   },
   "outputs": [],
   "source": [
    "vect = CountVectorizer(max_df=0.5,  ngram_range=(1,2))\n",
    "\n",
    "X_train_vectorized = vect.fit_transform(X_train)\n",
    "X_test_vectorized = vect.transform(X_test)\n",
    "\n",
    "transformer = TfidfTransformer(smooth_idf=True,use_idf=False,norm='l1')\n",
    "X_train_vectorized = transformer.fit_transform(X_train_vectorized)\n",
    "X_test_vectorized = transformer.fit_transform(X_test_vectorized)\n",
    "\n",
    "\n",
    "clf = LogisticRegression(max_iter=100,C=100).fit(X_train_vectorized, y_train)\n",
    "y_predicted = clf.predict(X_test_vectorized)"
   ]
  },
  {
   "cell_type": "code",
   "execution_count": 40,
   "metadata": {
    "execution": {
     "iopub.execute_input": "2020-08-12T02:16:45.207302Z",
     "iopub.status.busy": "2020-08-12T02:16:45.206132Z",
     "iopub.status.idle": "2020-08-12T02:16:45.225995Z",
     "shell.execute_reply": "2020-08-12T02:16:45.226791Z"
    },
    "papermill": {
     "duration": 0.056902,
     "end_time": "2020-08-12T02:16:45.226990",
     "exception": false,
     "start_time": "2020-08-12T02:16:45.170088",
     "status": "completed"
    },
    "tags": []
   },
   "outputs": [
    {
     "name": "stdout",
     "output_type": "stream",
     "text": [
      "Precision: 88.89%\n",
      "Accuracy: 97.93%\n",
      "Recall: 95.58%\n",
      "AUC score: 96.92%\n"
     ]
    }
   ],
   "source": [
    "print(\"Precision: {:.2f}%\".format(100 * precision_score(y_test, y_predicted)))\n",
    "print(\"Accuracy: {:.2f}%\".format(100 * accuracy_score(y_test, y_predicted)))\n",
    "print(\"Recall: {:.2f}%\".format(100 * recall_score(y_test, y_predicted)))\n",
    "print(\"AUC score: {:.2f}%\".format(100 * roc_auc_score(y_test, y_predicted)))"
   ]
  },
  {
   "cell_type": "markdown",
   "execution_count": null,
   "metadata": {
    "papermill": {
     "duration": 0.031435,
     "end_time": "2020-08-12T02:16:45.295258",
     "exception": false,
     "start_time": "2020-08-12T02:16:45.263823",
     "status": "completed"
    },
    "tags": []
   },
   "source": [
    "Precision is pretty low, but accuracy and the Area Under the Curve are showing that maybe this model can be helpful. Let's plot its confusion matrix and see how well it did."
   ]
  },
  {
   "cell_type": "code",
   "execution_count": 41,
   "metadata": {
    "execution": {
     "iopub.execute_input": "2020-08-12T02:16:45.365894Z",
     "iopub.status.busy": "2020-08-12T02:16:45.364949Z",
     "iopub.status.idle": "2020-08-12T02:16:45.611538Z",
     "shell.execute_reply": "2020-08-12T02:16:45.610870Z"
    },
    "papermill": {
     "duration": 0.284906,
     "end_time": "2020-08-12T02:16:45.611670",
     "exception": false,
     "start_time": "2020-08-12T02:16:45.326764",
     "status": "completed"
    },
    "tags": []
   },
   "outputs": [
    {
     "data": {
      "text/plain": [
       "<matplotlib.axes._subplots.AxesSubplot at 0x7fe9149bd490>"
      ]
     },
     "execution_count": 41,
     "metadata": {},
     "output_type": "execute_result"
    },
    {
     "data": {
      "image/png": "[encoded data removed]",
      "text/plain": [
       "<Figure size 1080x1080 with 2 Axes>"
      ]
     },
     "metadata": {
      "needs_background": "light"
     },
     "output_type": "display_data"
    }
   ],
   "source": [
    "matrix = confusion_matrix(y_test, y_predicted)\n",
    "conf_matrix = pd.DataFrame(matrix, index = ['Other','Depression & Anxiety'],columns = ['Other','Depression & Anxiety'])\n",
    "#Normalizing\n",
    "conf_matrix = conf_matrix.astype('float') / conf_matrix.sum(axis=1)[:, np.newaxis]\n",
    "plt.figure(figsize = (15,15))\n",
    "sns.heatmap(conf_matrix, annot=True, annot_kws={\"size\": 15})"
   ]
  },
  {
   "cell_type": "markdown",
   "execution_count": null,
   "metadata": {
    "papermill": {
     "duration": 0.02796,
     "end_time": "2020-08-12T02:16:45.668004",
     "exception": false,
     "start_time": "2020-08-12T02:16:45.640044",
     "status": "completed"
    },
    "tags": []
   },
   "source": [
    "Not bad, at all. This simplest model is the one that delivers one of the best metrics. We'll keep this model because it fits the data very quick and for our purposes this one behaves more than good. We can deal with the FPs and FNs misclassified by this predictor. We are all set to start importing the tweets data.\n",
    "\n",
    "## Model selected: LogisticRegression classifier"
   ]
  },
  {
   "cell_type": "markdown",
   "execution_count": null,
   "metadata": {
    "papermill": {
     "duration": 0.029237,
     "end_time": "2020-08-12T02:16:45.726435",
     "exception": false,
     "start_time": "2020-08-12T02:16:45.697198",
     "status": "completed"
    },
    "tags": []
   },
   "source": [
    "# Depressive/Anxious tweets import and exploration\n",
    "\n",
    "Alright, we're about to explore a dataset that I've acquired implementing OMGOT script - It's essentilly a Python code to get tweets without the need of using the Twitter API. Why did I do it this way? Because in order to use the Twitter API you need a developer account and you all know how complex is to get it approved. However, the mentioned script allows you to get whatever the tweets you want, in the location you want and with the keywords that you want. \n",
    "\n",
    "The dataset is made up of several CSV files, each one containing all available tweets related to depression and anxiety topics. We've limited them because would get complex to measure our model in a dataset that contains spread content. Also, the dataset contains tweets from 03/14 to 03/27 - one week before and after the lockdown started along US. Let's see what patterns we can find."
   ]
  },
  {
   "cell_type": "code",
   "execution_count": 42,
   "metadata": {
    "execution": {
     "iopub.execute_input": "2020-08-12T02:16:45.790323Z",
     "iopub.status.busy": "2020-08-12T02:16:45.789419Z",
     "iopub.status.idle": "2020-08-12T02:16:45.802805Z",
     "shell.execute_reply": "2020-08-12T02:16:45.802167Z"
    },
    "papermill": {
     "duration": 0.04767,
     "end_time": "2020-08-12T02:16:45.802947",
     "exception": false,
     "start_time": "2020-08-12T02:16:45.755277",
     "status": "completed"
    },
    "tags": []
   },
   "outputs": [
    {
     "data": {
      "text/plain": [
       "['0315_5.csv', '0319_4.csv', '0318_4.csv', '0320_3.csv', '0327_2.csv']"
      ]
     },
     "execution_count": 42,
     "metadata": {},
     "output_type": "execute_result"
    }
   ],
   "source": [
    "os.listdir('/kaggle/input/depression-anxiety-tweets/Tweets data')[:5]"
   ]
  },
  {
   "cell_type": "code",
   "execution_count": 43,
   "metadata": {
    "execution": {
     "iopub.execute_input": "2020-08-12T02:16:45.868679Z",
     "iopub.status.busy": "2020-08-12T02:16:45.867684Z",
     "iopub.status.idle": "2020-08-12T02:16:45.896329Z",
     "shell.execute_reply": "2020-08-12T02:16:45.895618Z"
    },
    "papermill": {
     "duration": 0.064465,
     "end_time": "2020-08-12T02:16:45.896479",
     "exception": false,
     "start_time": "2020-08-12T02:16:45.832014",
     "status": "completed"
    },
    "tags": []
   },
   "outputs": [
    {
     "data": {
      "text/html": [
       "<div>\n",
       "<style scoped>\n",
       "    .dataframe tbody tr th:only-of-type {\n",
       "        vertical-align: middle;\n",
       "    }\n",
       "\n",
       "    .dataframe tbody tr th {\n",
       "        vertical-align: top;\n",
       "    }\n",
       "\n",
       "    .dataframe thead th {\n",
       "        text-align: right;\n",
       "    }\n",
       "</style>\n",
       "<table border=\"1\" class=\"dataframe\">\n",
       "  <thead>\n",
       "    <tr style=\"text-align: right;\">\n",
       "      <th></th>\n",
       "      <th>date</th>\n",
       "      <th>username</th>\n",
       "      <th>to</th>\n",
       "      <th>replies</th>\n",
       "      <th>retweets</th>\n",
       "      <th>favorites</th>\n",
       "      <th>text</th>\n",
       "      <th>geo</th>\n",
       "      <th>mentions</th>\n",
       "      <th>hashtags</th>\n",
       "      <th>id</th>\n",
       "      <th>permalink</th>\n",
       "    </tr>\n",
       "  </thead>\n",
       "  <tbody>\n",
       "    <tr>\n",
       "      <th>0</th>\n",
       "      <td>2020-03-14 23:55:21</td>\n",
       "      <td>AlbertoxVazquez</td>\n",
       "      <td>NaN</td>\n",
       "      <td>0</td>\n",
       "      <td>1</td>\n",
       "      <td>5</td>\n",
       "      <td>Bout to depression buy these OnlyFans while I’...</td>\n",
       "      <td>NaN</td>\n",
       "      <td>NaN</td>\n",
       "      <td>NaN</td>\n",
       "      <td>1238977045230739460</td>\n",
       "      <td>https://twitter.com/AlbertoxVazquez/status/123...</td>\n",
       "    </tr>\n",
       "    <tr>\n",
       "      <th>1</th>\n",
       "      <td>2020-03-14 23:54:45</td>\n",
       "      <td>TheOGKennedy</td>\n",
       "      <td>NaN</td>\n",
       "      <td>6</td>\n",
       "      <td>2</td>\n",
       "      <td>63</td>\n",
       "      <td>Pretty lucky for me how we ended up in the onl...</td>\n",
       "      <td>NaN</td>\n",
       "      <td>NaN</td>\n",
       "      <td>NaN</td>\n",
       "      <td>1238976896160772096</td>\n",
       "      <td>https://twitter.com/TheOGKennedy/status/123897...</td>\n",
       "    </tr>\n",
       "    <tr>\n",
       "      <th>2</th>\n",
       "      <td>2020-03-14 23:45:58</td>\n",
       "      <td>megmarie5</td>\n",
       "      <td>NaN</td>\n",
       "      <td>0</td>\n",
       "      <td>0</td>\n",
       "      <td>0</td>\n",
       "      <td>@ariana2525 I myself suffered &amp; still suffer. ...</td>\n",
       "      <td>NaN</td>\n",
       "      <td>@ariana2525</td>\n",
       "      <td>NaN</td>\n",
       "      <td>1238974685015990273</td>\n",
       "      <td>https://twitter.com/megmarie5/status/123897468...</td>\n",
       "    </tr>\n",
       "    <tr>\n",
       "      <th>3</th>\n",
       "      <td>2020-03-14 23:43:10</td>\n",
       "      <td>BoozyBillsBabe</td>\n",
       "      <td>NaN</td>\n",
       "      <td>13</td>\n",
       "      <td>0</td>\n",
       "      <td>39</td>\n",
       "      <td>Second full day of self-quarantine and I am ju...</td>\n",
       "      <td>NaN</td>\n",
       "      <td>NaN</td>\n",
       "      <td>NaN</td>\n",
       "      <td>1238973978963836928</td>\n",
       "      <td>https://twitter.com/BoozyBillsBabe/status/1238...</td>\n",
       "    </tr>\n",
       "    <tr>\n",
       "      <th>4</th>\n",
       "      <td>2020-03-14 23:42:39</td>\n",
       "      <td>megmarie5</td>\n",
       "      <td>NaN</td>\n",
       "      <td>0</td>\n",
       "      <td>0</td>\n",
       "      <td>1</td>\n",
       "      <td>I’m behind on @VanderpumpRules and binge watch...</td>\n",
       "      <td>NaN</td>\n",
       "      <td>@VanderpumpRules @ariana2525</td>\n",
       "      <td>NaN</td>\n",
       "      <td>1238973850227884032</td>\n",
       "      <td>https://twitter.com/megmarie5/status/123897385...</td>\n",
       "    </tr>\n",
       "  </tbody>\n",
       "</table>\n",
       "</div>"
      ],
      "text/plain": [
       "                  date         username   to  replies  retweets  favorites  \\\n",
       "0  2020-03-14 23:55:21  AlbertoxVazquez  NaN        0         1          5   \n",
       "1  2020-03-14 23:54:45     TheOGKennedy  NaN        6         2         63   \n",
       "2  2020-03-14 23:45:58        megmarie5  NaN        0         0          0   \n",
       "3  2020-03-14 23:43:10   BoozyBillsBabe  NaN       13         0         39   \n",
       "4  2020-03-14 23:42:39        megmarie5  NaN        0         0          1   \n",
       "\n",
       "                                                text  geo  \\\n",
       "0  Bout to depression buy these OnlyFans while I’...  NaN   \n",
       "1  Pretty lucky for me how we ended up in the onl...  NaN   \n",
       "2  @ariana2525 I myself suffered & still suffer. ...  NaN   \n",
       "3  Second full day of self-quarantine and I am ju...  NaN   \n",
       "4  I’m behind on @VanderpumpRules and binge watch...  NaN   \n",
       "\n",
       "                       mentions hashtags                   id  \\\n",
       "0                           NaN      NaN  1238977045230739460   \n",
       "1                           NaN      NaN  1238976896160772096   \n",
       "2                   @ariana2525      NaN  1238974685015990273   \n",
       "3                           NaN      NaN  1238973978963836928   \n",
       "4  @VanderpumpRules @ariana2525      NaN  1238973850227884032   \n",
       "\n",
       "                                           permalink  \n",
       "0  https://twitter.com/AlbertoxVazquez/status/123...  \n",
       "1  https://twitter.com/TheOGKennedy/status/123897...  \n",
       "2  https://twitter.com/megmarie5/status/123897468...  \n",
       "3  https://twitter.com/BoozyBillsBabe/status/1238...  \n",
       "4  https://twitter.com/megmarie5/status/123897385...  "
      ]
     },
     "execution_count": 43,
     "metadata": {},
     "output_type": "execute_result"
    }
   ],
   "source": [
    "tweets = pd.read_csv('/kaggle/input/depression-anxiety-tweets/Tweets data/0314_1.csv')\n",
    "tweets.head()"
   ]
  },
  {
   "cell_type": "markdown",
   "execution_count": null,
   "metadata": {
    "papermill": {
     "duration": 0.029199,
     "end_time": "2020-08-12T02:16:45.955803",
     "exception": false,
     "start_time": "2020-08-12T02:16:45.926604",
     "status": "completed"
    },
    "tags": []
   },
   "source": [
    "It's time to explain how the dataset is composed. I queried several tweets from the beginning of the lockdown at US. I focused on downloading tweets that contain the keywords 'Anxiety', 'Depression', 'Anxious' and 'Depressive' in order to limit the topics, otherwise these would be very general. Let's put them all on a same dataframe to start the exploration."
   ]
  },
  {
   "cell_type": "code",
   "execution_count": 44,
   "metadata": {
    "execution": {
     "iopub.execute_input": "2020-08-12T02:16:46.024924Z",
     "iopub.status.busy": "2020-08-12T02:16:46.023696Z",
     "iopub.status.idle": "2020-08-12T02:16:47.623313Z",
     "shell.execute_reply": "2020-08-12T02:16:47.622609Z"
    },
    "papermill": {
     "duration": 1.63804,
     "end_time": "2020-08-12T02:16:47.623488",
     "exception": false,
     "start_time": "2020-08-12T02:16:45.985448",
     "status": "completed"
    },
    "tags": []
   },
   "outputs": [],
   "source": [
    "for dirname, _, filenames in os.walk('/kaggle/input/depression-anxiety-tweets/Tweets data'):\n",
    "    for filename in filenames:\n",
    "        if filename!='0314_1.csv':\n",
    "            temp = pd.read_csv(os.path.join(dirname, filename))\n",
    "            tweets = pd.concat([tweets, temp], ignore_index=True)"
   ]
  },
  {
   "cell_type": "code",
   "execution_count": 45,
   "metadata": {
    "execution": {
     "iopub.execute_input": "2020-08-12T02:16:47.691795Z",
     "iopub.status.busy": "2020-08-12T02:16:47.690607Z",
     "iopub.status.idle": "2020-08-12T02:16:47.696182Z",
     "shell.execute_reply": "2020-08-12T02:16:47.695358Z"
    },
    "papermill": {
     "duration": 0.043023,
     "end_time": "2020-08-12T02:16:47.696328",
     "exception": false,
     "start_time": "2020-08-12T02:16:47.653305",
     "status": "completed"
    },
    "tags": []
   },
   "outputs": [
    {
     "data": {
      "text/plain": [
       "(25425, 12)"
      ]
     },
     "execution_count": 45,
     "metadata": {},
     "output_type": "execute_result"
    }
   ],
   "source": [
    "tweets.shape"
   ]
  },
  {
   "cell_type": "code",
   "execution_count": 46,
   "metadata": {
    "execution": {
     "iopub.execute_input": "2020-08-12T02:16:47.773127Z",
     "iopub.status.busy": "2020-08-12T02:16:47.771843Z",
     "iopub.status.idle": "2020-08-12T02:16:47.873805Z",
     "shell.execute_reply": "2020-08-12T02:16:47.872817Z"
    },
    "papermill": {
     "duration": 0.145839,
     "end_time": "2020-08-12T02:16:47.873986",
     "exception": false,
     "start_time": "2020-08-12T02:16:47.728147",
     "status": "completed"
    },
    "tags": []
   },
   "outputs": [],
   "source": [
    "tweets.sort_values(by=['date'],inplace=True)\n",
    "tweets.reset_index(drop=True,inplace=True)\n",
    "tweets = tweets[['date','text']]"
   ]
  },
  {
   "cell_type": "code",
   "execution_count": 47,
   "metadata": {
    "execution": {
     "iopub.execute_input": "2020-08-12T02:16:47.958190Z",
     "iopub.status.busy": "2020-08-12T02:16:47.956902Z",
     "iopub.status.idle": "2020-08-12T02:16:47.963515Z",
     "shell.execute_reply": "2020-08-12T02:16:47.962745Z"
    },
    "papermill": {
     "duration": 0.055331,
     "end_time": "2020-08-12T02:16:47.963703",
     "exception": false,
     "start_time": "2020-08-12T02:16:47.908372",
     "status": "completed"
    },
    "tags": []
   },
   "outputs": [
    {
     "data": {
      "text/html": [
       "<div>\n",
       "<style scoped>\n",
       "    .dataframe tbody tr th:only-of-type {\n",
       "        vertical-align: middle;\n",
       "    }\n",
       "\n",
       "    .dataframe tbody tr th {\n",
       "        vertical-align: top;\n",
       "    }\n",
       "\n",
       "    .dataframe thead th {\n",
       "        text-align: right;\n",
       "    }\n",
       "</style>\n",
       "<table border=\"1\" class=\"dataframe\">\n",
       "  <thead>\n",
       "    <tr style=\"text-align: right;\">\n",
       "      <th></th>\n",
       "      <th>date</th>\n",
       "      <th>text</th>\n",
       "    </tr>\n",
       "  </thead>\n",
       "  <tbody>\n",
       "    <tr>\n",
       "      <th>0</th>\n",
       "      <td>2020-03-14 00:04:13</td>\n",
       "      <td>Damn just remembered this front bottoms show i...</td>\n",
       "    </tr>\n",
       "    <tr>\n",
       "      <th>1</th>\n",
       "      <td>2020-03-14 00:07:19</td>\n",
       "      <td>hapless Dementia joe will lose to Trump, even ...</td>\n",
       "    </tr>\n",
       "    <tr>\n",
       "      <th>2</th>\n",
       "      <td>2020-03-14 00:07:52</td>\n",
       "      <td>it's making me anxious lol</td>\n",
       "    </tr>\n",
       "    <tr>\n",
       "      <th>3</th>\n",
       "      <td>2020-03-14 00:08:46</td>\n",
       "      <td>I’m so glad my depression kicked in I’m going ...</td>\n",
       "    </tr>\n",
       "    <tr>\n",
       "      <th>4</th>\n",
       "      <td>2020-03-14 00:11:16</td>\n",
       "      <td>Have some wine . You’ll feel less anxious.</td>\n",
       "    </tr>\n",
       "  </tbody>\n",
       "</table>\n",
       "</div>"
      ],
      "text/plain": [
       "                  date                                               text\n",
       "0  2020-03-14 00:04:13  Damn just remembered this front bottoms show i...\n",
       "1  2020-03-14 00:07:19  hapless Dementia joe will lose to Trump, even ...\n",
       "2  2020-03-14 00:07:52                         it's making me anxious lol\n",
       "3  2020-03-14 00:08:46  I’m so glad my depression kicked in I’m going ...\n",
       "4  2020-03-14 00:11:16         Have some wine . You’ll feel less anxious."
      ]
     },
     "execution_count": 47,
     "metadata": {},
     "output_type": "execute_result"
    }
   ],
   "source": [
    "tweets.head()"
   ]
  },
  {
   "cell_type": "code",
   "execution_count": 48,
   "metadata": {
    "execution": {
     "iopub.execute_input": "2020-08-12T02:16:48.048853Z",
     "iopub.status.busy": "2020-08-12T02:16:48.043227Z",
     "iopub.status.idle": "2020-08-12T02:18:58.315092Z",
     "shell.execute_reply": "2020-08-12T02:18:58.314145Z"
    },
    "papermill": {
     "duration": 130.320098,
     "end_time": "2020-08-12T02:18:58.315265",
     "exception": false,
     "start_time": "2020-08-12T02:16:47.995167",
     "status": "completed"
    },
    "tags": []
   },
   "outputs": [],
   "source": [
    "#Removing non-ascii characters (for example, arabian chars)\n",
    "tweets.text.replace({r'[^\\x00-\\x7F]+':''}, regex=True, inplace=True)\n",
    "#Making all fields string type\n",
    "for i in range(len(tweets)):\n",
    "  tweets.at[i,'text'] = str(tweets.iloc[i]['text'])\n",
    "#Removing URLs\n",
    "for i in range(len(tweets)):\n",
    "  tweets.at[i,'text'] = remove_urls(tweets.iloc[i]['text'])\n",
    "# Convert to list\n",
    "data = tweets.text.values.tolist()\n",
    "# Remove Emails\n",
    "data = [re.sub('\\S*@\\S*\\s?', '', sent) for sent in data]\n",
    "# Remove new line characters\n",
    "data = [re.sub('\\s+', ' ', sent) for sent in data]\n",
    "# Remove distracting single quotes\n",
    "data = [re.sub(\"\\'\", \"\", sent) for sent in data]\n",
    "#Sentence splitting\n",
    "data_words = list(sent_to_words(data))\n",
    "# Build the bigram and trigram models\n",
    "bigram = gensim.models.Phrases(data_words, min_count=5, threshold=100) # higher threshold fewer phrases.\n",
    "trigram = gensim.models.Phrases(bigram[data_words], threshold=100)  \n",
    "# Faster way to get a sentence clubbed as a trigram/bigram\n",
    "bigram_mod = gensim.models.phrases.Phraser(bigram)\n",
    "trigram_mod = gensim.models.phrases.Phraser(trigram)\n",
    "# Removing Stop Words\n",
    "data_words_nostops = remove_stopwords(data_words)\n",
    "# Forming Bigrams\n",
    "data_words_bigrams = make_bigrams(data_words_nostops)\n",
    "# Initializing spacy 'en' model, keeping only tagger component (for efficiency)\n",
    "# python3 -m spacy download en\n",
    "nlp = spacy.load('en', disable=['parser', 'ner'])\n",
    "# Do lemmatization keeping only noun, adj, vb, adv\n",
    "data_lemmatized = lemmatization(data_words_bigrams, allowed_postags=['NOUN', 'ADJ', 'VERB', 'ADV'])\n",
    "#Putting all together\n",
    "dataset = []\n",
    "for i in range(len(data_lemmatized)):\n",
    "    dataset.append(\" \".join(data_lemmatized[i]))\n",
    "dataset = pd.Series(dataset)\n",
    "dataset = pd.concat([tweets['date'], dataset], axis=1)\n",
    "dataset.rename(columns={'date':'Date',0:'Text'},inplace=True)"
   ]
  },
  {
   "cell_type": "code",
   "execution_count": 49,
   "metadata": {
    "execution": {
     "iopub.execute_input": "2020-08-12T02:18:58.393548Z",
     "iopub.status.busy": "2020-08-12T02:18:58.392408Z",
     "iopub.status.idle": "2020-08-12T02:18:58.398161Z",
     "shell.execute_reply": "2020-08-12T02:18:58.397351Z"
    },
    "papermill": {
     "duration": 0.050379,
     "end_time": "2020-08-12T02:18:58.398295",
     "exception": false,
     "start_time": "2020-08-12T02:18:58.347916",
     "status": "completed"
    },
    "tags": []
   },
   "outputs": [
    {
     "data": {
      "text/html": [
       "<div>\n",
       "<style scoped>\n",
       "    .dataframe tbody tr th:only-of-type {\n",
       "        vertical-align: middle;\n",
       "    }\n",
       "\n",
       "    .dataframe tbody tr th {\n",
       "        vertical-align: top;\n",
       "    }\n",
       "\n",
       "    .dataframe thead th {\n",
       "        text-align: right;\n",
       "    }\n",
       "</style>\n",
       "<table border=\"1\" class=\"dataframe\">\n",
       "  <thead>\n",
       "    <tr style=\"text-align: right;\">\n",
       "      <th></th>\n",
       "      <th>Date</th>\n",
       "      <th>Text</th>\n",
       "    </tr>\n",
       "  </thead>\n",
       "  <tbody>\n",
       "    <tr>\n",
       "      <th>0</th>\n",
       "      <td>2020-03-14 00:04:13</td>\n",
       "      <td>damn remember front bottom show cure depression</td>\n",
       "    </tr>\n",
       "    <tr>\n",
       "      <th>1</th>\n",
       "      <td>2020-03-14 00:07:19</td>\n",
       "      <td>dementia lose trump even economy crater full d...</td>\n",
       "    </tr>\n",
       "    <tr>\n",
       "      <th>2</th>\n",
       "      <td>2020-03-14 00:07:52</td>\n",
       "      <td>make anxious lol</td>\n",
       "    </tr>\n",
       "    <tr>\n",
       "      <th>3</th>\n",
       "      <td>2020-03-14 00:08:46</td>\n",
       "      <td>be kick be go bed</td>\n",
       "    </tr>\n",
       "    <tr>\n",
       "      <th>4</th>\n",
       "      <td>2020-03-14 00:11:16</td>\n",
       "      <td>wine will feel less anxious</td>\n",
       "    </tr>\n",
       "    <tr>\n",
       "      <th>5</th>\n",
       "      <td>2020-03-14 00:12:38</td>\n",
       "      <td>patient message blow know anxious bet mini wri...</td>\n",
       "    </tr>\n",
       "    <tr>\n",
       "      <th>6</th>\n",
       "      <td>2020-03-14 00:14:19</td>\n",
       "      <td>can wait tell kid depression</td>\n",
       "    </tr>\n",
       "    <tr>\n",
       "      <th>7</th>\n",
       "      <td>2020-03-14 00:14:34</td>\n",
       "      <td>think order keep sick hourly worker home suppo...</td>\n",
       "    </tr>\n",
       "    <tr>\n",
       "      <th>8</th>\n",
       "      <td>2020-03-14 00:14:57</td>\n",
       "      <td></td>\n",
       "    </tr>\n",
       "    <tr>\n",
       "      <th>9</th>\n",
       "      <td>2020-03-14 00:15:00</td>\n",
       "      <td>right dedication prove city sustain market dep...</td>\n",
       "    </tr>\n",
       "    <tr>\n",
       "      <th>10</th>\n",
       "      <td>2020-03-14 00:20:51</td>\n",
       "      <td>great depression</td>\n",
       "    </tr>\n",
       "    <tr>\n",
       "      <th>11</th>\n",
       "      <td>2020-03-14 00:22:45</td>\n",
       "      <td>self social_distancing aka depression</td>\n",
       "    </tr>\n",
       "    <tr>\n",
       "      <th>12</th>\n",
       "      <td>2020-03-14 00:23:31</td>\n",
       "      <td>depression door</td>\n",
       "    </tr>\n",
       "    <tr>\n",
       "      <th>13</th>\n",
       "      <td>2020-03-14 00:24:02</td>\n",
       "      <td>truly call clinically anxious asthmatic s bitt...</td>\n",
       "    </tr>\n",
       "    <tr>\n",
       "      <th>14</th>\n",
       "      <td>2020-03-14 00:24:20</td>\n",
       "      <td>take kind slight depression home virus crap ma...</td>\n",
       "    </tr>\n",
       "  </tbody>\n",
       "</table>\n",
       "</div>"
      ],
      "text/plain": [
       "                   Date                                               Text\n",
       "0   2020-03-14 00:04:13    damn remember front bottom show cure depression\n",
       "1   2020-03-14 00:07:19  dementia lose trump even economy crater full d...\n",
       "2   2020-03-14 00:07:52                                   make anxious lol\n",
       "3   2020-03-14 00:08:46                                  be kick be go bed\n",
       "4   2020-03-14 00:11:16                        wine will feel less anxious\n",
       "5   2020-03-14 00:12:38  patient message blow know anxious bet mini wri...\n",
       "6   2020-03-14 00:14:19                       can wait tell kid depression\n",
       "7   2020-03-14 00:14:34  think order keep sick hourly worker home suppo...\n",
       "8   2020-03-14 00:14:57                                                   \n",
       "9   2020-03-14 00:15:00  right dedication prove city sustain market dep...\n",
       "10  2020-03-14 00:20:51                                   great depression\n",
       "11  2020-03-14 00:22:45              self social_distancing aka depression\n",
       "12  2020-03-14 00:23:31                                    depression door\n",
       "13  2020-03-14 00:24:02  truly call clinically anxious asthmatic s bitt...\n",
       "14  2020-03-14 00:24:20  take kind slight depression home virus crap ma..."
      ]
     },
     "execution_count": 49,
     "metadata": {},
     "output_type": "execute_result"
    }
   ],
   "source": [
    "dataset.head(15)"
   ]
  },
  {
   "cell_type": "markdown",
   "execution_count": null,
   "metadata": {
    "papermill": {
     "duration": 0.030625,
     "end_time": "2020-08-12T02:18:58.460929",
     "exception": false,
     "start_time": "2020-08-12T02:18:58.430304",
     "status": "completed"
    },
    "tags": []
   },
   "source": [
    "## Vectorizing tweets dataset"
   ]
  },
  {
   "cell_type": "code",
   "execution_count": 50,
   "metadata": {
    "execution": {
     "iopub.execute_input": "2020-08-12T02:18:58.542356Z",
     "iopub.status.busy": "2020-08-12T02:18:58.537012Z",
     "iopub.status.idle": "2020-08-12T02:18:59.515578Z",
     "shell.execute_reply": "2020-08-12T02:18:59.514699Z"
    },
    "papermill": {
     "duration": 1.02401,
     "end_time": "2020-08-12T02:18:59.515730",
     "exception": false,
     "start_time": "2020-08-12T02:18:58.491720",
     "status": "completed"
    },
    "tags": []
   },
   "outputs": [],
   "source": [
    "text_vector = vect.transform(dataset['Text'])"
   ]
  },
  {
   "cell_type": "markdown",
   "execution_count": null,
   "metadata": {
    "papermill": {
     "duration": 0.030719,
     "end_time": "2020-08-12T02:18:59.577275",
     "exception": false,
     "start_time": "2020-08-12T02:18:59.546556",
     "status": "completed"
    },
    "tags": []
   },
   "source": [
    "## Getting dataset labels"
   ]
  },
  {
   "cell_type": "code",
   "execution_count": 51,
   "metadata": {
    "execution": {
     "iopub.execute_input": "2020-08-12T02:18:59.647370Z",
     "iopub.status.busy": "2020-08-12T02:18:59.646566Z",
     "iopub.status.idle": "2020-08-12T02:18:59.664960Z",
     "shell.execute_reply": "2020-08-12T02:18:59.664033Z"
    },
    "papermill": {
     "duration": 0.05654,
     "end_time": "2020-08-12T02:18:59.665116",
     "exception": false,
     "start_time": "2020-08-12T02:18:59.608576",
     "status": "completed"
    },
    "tags": []
   },
   "outputs": [
    {
     "data": {
      "text/html": [
       "<div>\n",
       "<style scoped>\n",
       "    .dataframe tbody tr th:only-of-type {\n",
       "        vertical-align: middle;\n",
       "    }\n",
       "\n",
       "    .dataframe tbody tr th {\n",
       "        vertical-align: top;\n",
       "    }\n",
       "\n",
       "    .dataframe thead th {\n",
       "        text-align: right;\n",
       "    }\n",
       "</style>\n",
       "<table border=\"1\" class=\"dataframe\">\n",
       "  <thead>\n",
       "    <tr style=\"text-align: right;\">\n",
       "      <th></th>\n",
       "      <th>date</th>\n",
       "      <th>text</th>\n",
       "      <th>Label</th>\n",
       "    </tr>\n",
       "  </thead>\n",
       "  <tbody>\n",
       "    <tr>\n",
       "      <th>0</th>\n",
       "      <td>2020-03-14 00:04:13</td>\n",
       "      <td>Damn just remembered this front bottoms show i...</td>\n",
       "      <td>1</td>\n",
       "    </tr>\n",
       "    <tr>\n",
       "      <th>1</th>\n",
       "      <td>2020-03-14 00:07:19</td>\n",
       "      <td>hapless Dementia joe will lose to Trump, even ...</td>\n",
       "      <td>0</td>\n",
       "    </tr>\n",
       "    <tr>\n",
       "      <th>2</th>\n",
       "      <td>2020-03-14 00:07:52</td>\n",
       "      <td>it's making me anxious lol</td>\n",
       "      <td>0</td>\n",
       "    </tr>\n",
       "    <tr>\n",
       "      <th>3</th>\n",
       "      <td>2020-03-14 00:08:46</td>\n",
       "      <td>Im so glad my depression kicked in Im going to...</td>\n",
       "      <td>0</td>\n",
       "    </tr>\n",
       "    <tr>\n",
       "      <th>4</th>\n",
       "      <td>2020-03-14 00:11:16</td>\n",
       "      <td>Have some wine . Youll feel less anxious.</td>\n",
       "      <td>0</td>\n",
       "    </tr>\n",
       "  </tbody>\n",
       "</table>\n",
       "</div>"
      ],
      "text/plain": [
       "                  date                                               text  \\\n",
       "0  2020-03-14 00:04:13  Damn just remembered this front bottoms show i...   \n",
       "1  2020-03-14 00:07:19  hapless Dementia joe will lose to Trump, even ...   \n",
       "2  2020-03-14 00:07:52                         it's making me anxious lol   \n",
       "3  2020-03-14 00:08:46  Im so glad my depression kicked in Im going to...   \n",
       "4  2020-03-14 00:11:16          Have some wine . Youll feel less anxious.   \n",
       "\n",
       "   Label  \n",
       "0      1  \n",
       "1      0  \n",
       "2      0  \n",
       "3      0  \n",
       "4      0  "
      ]
     },
     "execution_count": 51,
     "metadata": {},
     "output_type": "execute_result"
    }
   ],
   "source": [
    "labels = clf.predict(text_vector)\n",
    "dataset['Label'] = labels\n",
    "tweets['Label'] = dataset['Label']\n",
    "tweets.head()"
   ]
  },
  {
   "cell_type": "markdown",
   "execution_count": null,
   "metadata": {
    "papermill": {
     "duration": 0.031981,
     "end_time": "2020-08-12T02:18:59.729738",
     "exception": false,
     "start_time": "2020-08-12T02:18:59.697757",
     "status": "completed"
    },
    "tags": []
   },
   "source": [
    "Let's print some random depressive/anxious tweets."
   ]
  },
  {
   "cell_type": "code",
   "execution_count": 52,
   "metadata": {
    "execution": {
     "iopub.execute_input": "2020-08-12T02:18:59.808071Z",
     "iopub.status.busy": "2020-08-12T02:18:59.802322Z",
     "iopub.status.idle": "2020-08-12T02:18:59.831218Z",
     "shell.execute_reply": "2020-08-12T02:18:59.832290Z"
    },
    "papermill": {
     "duration": 0.07015,
     "end_time": "2020-08-12T02:18:59.832581",
     "exception": false,
     "start_time": "2020-08-12T02:18:59.762431",
     "status": "completed"
    },
    "tags": []
   },
   "outputs": [
    {
     "name": "stdout",
     "output_type": "stream",
     "text": [
      "Damn just remembered this front bottoms show is about to cure my depression\n",
      "\n",
      "\n",
      "Amerie went home sick w/ a cough and 103 fever. I had an anxiety attack. Here at urgent care & she tested negative for the flu, but dr says its the flu. But not corona. I asked to test for corona and she said we dont have it. Theres a limited amount in the us. ?THANKS TRUMP\n",
      "\n",
      "\n",
      "Still in awe of @joywave There's someone here that you should meet My pet, he cures anxiety (\"It's for therapy!\")\n",
      "\n",
      "\n",
      "Anxiety sucks.... tired of living with feeling so anxious especially when its out of no where.\n",
      "\n",
      "\n",
      "We sure do need the tested team rn to keep our minds busy. Thank you all so much. Signed chronic constant anxiety bearers.\n",
      "\n",
      "\n"
     ]
    }
   ],
   "source": [
    "for i in range(0,50,10):\n",
    "    print(tweets[tweets['Label']==1].iloc[i][1])\n",
    "    print('\\n')"
   ]
  },
  {
   "cell_type": "markdown",
   "execution_count": null,
   "metadata": {
    "papermill": {
     "duration": 0.030919,
     "end_time": "2020-08-12T02:18:59.894792",
     "exception": false,
     "start_time": "2020-08-12T02:18:59.863873",
     "status": "completed"
    },
    "tags": []
   },
   "source": [
    "The predictions look very well, but also very sad! It's the demonstration that there are many people out there having serious issues. Obviously there are some tweets that are related to other type of depression, but most of them are about actual depressive and anxious people. Let's get more info about this."
   ]
  },
  {
   "cell_type": "markdown",
   "execution_count": null,
   "metadata": {
    "papermill": {
     "duration": 0.030994,
     "end_time": "2020-08-12T02:18:59.957559",
     "exception": false,
     "start_time": "2020-08-12T02:18:59.926565",
     "status": "completed"
    },
    "tags": []
   },
   "source": [
    "Let's put some data together to plot a curve about the actual number of depressive/anxious tweets against the whole tweets dataset.\n",
    "\n",
    "**IMPORTANT** The OMGOT script downloaded all available tweets with the specification given. We'll be basing our research on a unbalanced and very irregular dataset, just FYI. In addition, it's just to measure how well our model performs, the rest of the research is just informative and not with science purposes."
   ]
  },
  {
   "cell_type": "code",
   "execution_count": 53,
   "metadata": {
    "execution": {
     "iopub.execute_input": "2020-08-12T02:19:00.032882Z",
     "iopub.status.busy": "2020-08-12T02:19:00.031290Z",
     "iopub.status.idle": "2020-08-12T02:19:05.618668Z",
     "shell.execute_reply": "2020-08-12T02:19:05.617875Z"
    },
    "papermill": {
     "duration": 5.629892,
     "end_time": "2020-08-12T02:19:05.618824",
     "exception": false,
     "start_time": "2020-08-12T02:18:59.988932",
     "status": "completed"
    },
    "tags": []
   },
   "outputs": [],
   "source": [
    "for i in range(len(dataset)):\n",
    "    dataset.at[i,'Date'] = dataset.iloc[i]['Date'][0:10]\n",
    "tweets_per_day = dataset['Date'].value_counts().sort_index()[0:-6]\n",
    "tweet_pred = dataset.groupby(['Date']).sum()[0:-6]\n",
    "dates = []\n",
    "for i in range(len(tweet_pred)):\n",
    "    dates.append(datetime.strptime(tweet_pred.index.values[i], '%Y-%m-%d'))"
   ]
  },
  {
   "cell_type": "markdown",
   "execution_count": null,
   "metadata": {
    "papermill": {
     "duration": 0.030755,
     "end_time": "2020-08-12T02:19:05.682130",
     "exception": false,
     "start_time": "2020-08-12T02:19:05.651375",
     "status": "completed"
    },
    "tags": []
   },
   "source": [
    "How does look the depression/anxiety curve per day both weeks? Is there any pattern here? Any less depressive day compared to the others?"
   ]
  },
  {
   "cell_type": "code",
   "execution_count": 54,
   "metadata": {
    "execution": {
     "iopub.execute_input": "2020-08-12T02:19:05.770319Z",
     "iopub.status.busy": "2020-08-12T02:19:05.768952Z",
     "iopub.status.idle": "2020-08-12T02:19:06.024599Z",
     "shell.execute_reply": "2020-08-12T02:19:06.023743Z"
    },
    "papermill": {
     "duration": 0.310529,
     "end_time": "2020-08-12T02:19:06.024743",
     "exception": false,
     "start_time": "2020-08-12T02:19:05.714214",
     "status": "completed"
    },
    "tags": []
   },
   "outputs": [
    {
     "data": {
      "image/png": "[encoded data removed]",
      "text/plain": [
       "<Figure size 1200x800 with 1 Axes>"
      ]
     },
     "metadata": {
      "needs_background": "light"
     },
     "output_type": "display_data"
    }
   ],
   "source": [
    "X_axis = np.array(dates)\n",
    "Y_axis = tweet_pred['Label']\n",
    "\n",
    "plt.figure(figsize=(15, 10), dpi=80)\n",
    "plt.title('Depression along the previous week of lockdown in US vs during the first week of lockdown.')\n",
    "plt.plot(X_axis,Y_axis,marker='o')\n",
    "plt.plot(X_axis,tweets_per_day.values,marker='o')\n",
    "plt.xlabel('Days')\n",
    "plt.ylabel('Tweets')\n",
    "plt.axvline(x=datetime.strptime('2020-03-21', '%Y-%m-%d'))\n",
    "plt.xticks(rotation=90)\n",
    "plt.legend(['Predictions','Tweets'],loc=3)\n",
    "plt.ylim(0, 3000)\n",
    "plt.show()"
   ]
  },
  {
   "cell_type": "markdown",
   "execution_count": null,
   "metadata": {
    "papermill": {
     "duration": 0.041091,
     "end_time": "2020-08-12T02:19:06.105240",
     "exception": false,
     "start_time": "2020-08-12T02:19:06.064149",
     "status": "completed"
    },
    "tags": []
   },
   "source": [
    "There are a few things to extract from the above's chart:\n",
    "\n",
    "**We would need to get more data and also for more days, but some premature thoughts would be:**\n",
    "\n",
    "* The predictions follow the trend of the dataset in most of the days, which is made up of tweets that contain keywords related to depression and anxiety but not are not necessarily depressive/anxious tweets.\n",
    "* Even when the dataset has a peak on 03/20, the predictions don't follow the trend this day. That only means our model is filtering depressive/anxious tweets properly. This day people could be tweeting about \"Great Depression\" which we know was a world TT but is not related to actual depression, just economy depression.\n",
    "* Weekends are less depressive - which makes sense. Important researches have confirmed that the less depressive day for the americans is Saturday.\n",
    "* We cannot make an affirmation, but looks like the lockdown has decreased the anxiety and depression on americans, at least on the first week of lockdown. That could make sense, people would be at home with their families and not having to deal with outside people - which generates high volumes of anxiety for introvert individuals.\n",
    "* Week days are the ones that generate more anxiety and depression on americans, with peak on wednesdays.\n",
    "\n",
    "Let's get some data about **time** to find out more trends."
   ]
  },
  {
   "cell_type": "markdown",
   "execution_count": null,
   "metadata": {
    "papermill": {
     "duration": 0.036467,
     "end_time": "2020-08-12T02:19:06.182885",
     "exception": false,
     "start_time": "2020-08-12T02:19:06.146418",
     "status": "completed"
    },
    "tags": []
   },
   "source": [
    "Extracting the hour stamp from the whole date"
   ]
  },
  {
   "cell_type": "code",
   "execution_count": 55,
   "metadata": {
    "execution": {
     "iopub.execute_input": "2020-08-12T02:19:06.276221Z",
     "iopub.status.busy": "2020-08-12T02:19:06.271255Z",
     "iopub.status.idle": "2020-08-12T02:19:06.937312Z",
     "shell.execute_reply": "2020-08-12T02:19:06.936624Z"
    },
    "papermill": {
     "duration": 0.717338,
     "end_time": "2020-08-12T02:19:06.937442",
     "exception": false,
     "start_time": "2020-08-12T02:19:06.220104",
     "status": "completed"
    },
    "tags": []
   },
   "outputs": [],
   "source": [
    "import datetime\n",
    "from datetime import time\n",
    "time = []\n",
    "for i in range(len(dataset)):\n",
    "    time.append(datetime.time(int(tweets.date.values[i][-8:-6])))\n",
    "for i in range(len(dataset)):\n",
    "    dataset.at[i,'Hour'] = time[i]\n",
    "tweets_per_hour = dataset['Hour'].value_counts().sort_index()\n",
    "tweet_pred_per_hour = dataset.groupby(['Hour']).sum()"
   ]
  },
  {
   "cell_type": "code",
   "execution_count": 56,
   "metadata": {
    "execution": {
     "iopub.execute_input": "2020-08-12T02:19:07.013308Z",
     "iopub.status.busy": "2020-08-12T02:19:07.012140Z",
     "iopub.status.idle": "2020-08-12T02:19:07.365976Z",
     "shell.execute_reply": "2020-08-12T02:19:07.365098Z"
    },
    "papermill": {
     "duration": 0.396722,
     "end_time": "2020-08-12T02:19:07.366121",
     "exception": false,
     "start_time": "2020-08-12T02:19:06.969399",
     "status": "completed"
    },
    "tags": []
   },
   "outputs": [
    {
     "data": {
      "image/png": "[encoded data removed]",
      "text/plain": [
       "<Figure size 1200x800 with 1 Axes>"
      ]
     },
     "metadata": {
      "needs_background": "light"
     },
     "output_type": "display_data"
    }
   ],
   "source": [
    "X_axis = ['00:00:00','01:00:00','02:00:00','03:00:00','04:00:00','05:00:00','06:00:00','07:00:00','08:00:00','09:00:00','10:00:00','11:00:00','12:00:00','13:00:00','14:00:00','15:00:00','16:00:00','17:00:00','18:00:00','19:00:00','20:00:00','21:00:00','22:00:00','23:00:00']\n",
    "Y_axis = tweet_pred_per_hour['Label']\n",
    "\n",
    "plt.figure(figsize=(15, 10), dpi=80)\n",
    "plt.title('Depressive tweets per hour in US')\n",
    "plt.plot(X_axis,Y_axis,marker='o')\n",
    "plt.plot(X_axis,tweets_per_hour.values,marker='o')\n",
    "plt.xlabel('Hours')\n",
    "plt.ylabel('Tweets')\n",
    "plt.xticks(rotation=90)\n",
    "plt.legend(['Predictions','Tweets'],loc=3)\n",
    "#plt.ylim(0, 3000)\n",
    "plt.show()"
   ]
  },
  {
   "cell_type": "markdown",
   "execution_count": null,
   "metadata": {
    "papermill": {
     "duration": 0.03964,
     "end_time": "2020-08-12T02:19:07.443691",
     "exception": false,
     "start_time": "2020-08-12T02:19:07.404051",
     "status": "completed"
    },
    "tags": []
   },
   "source": [
    "There are a few things we can extract from the above's chart as well:\n",
    "\n",
    "**As mentioned before, these are just assumptions and we would need to get more data about this, but some premature conclusions would be:**\n",
    "\n",
    "* The depression/anxiety curves reach the bottom at 9:00 am, for obvious reasons like that's the time were there are less depressive/anxious tweets but also could be related factors like people is facing the job duties - most of them would be pretty busy.\n",
    "\n",
    "* The curves reach the highest point at 17:00. This could be the time people unsatisfied with their jobs begin expressing their sentiment through Twitter. \n",
    "\n",
    "* 23:00 is also a very important peak: It could demonstrate how people express their their anxiety and depression before going to bed. We all know that's a very dramatic moment for depressive people.\n",
    "\n",
    "To get a bigger panorama, more data from more days would need to be acquired."
   ]
  },
  {
   "cell_type": "markdown",
   "execution_count": null,
   "metadata": {
    "papermill": {
     "duration": 0.039425,
     "end_time": "2020-08-12T02:19:07.522045",
     "exception": false,
     "start_time": "2020-08-12T02:19:07.482620",
     "status": "completed"
    },
    "tags": []
   },
   "source": [
    "# Conclusions\n",
    "\n",
    "Alright, we've reached the end of this notebook. There are several things to highlight and also to close.\n",
    "\n",
    "First of all I would say the models trained in here reached very good results even when the datasets were unbalanced. Also, even when they are pretty simple, could be implemented to identify several other topics such as violent, racist or abussive tweets, all of this with the goal of detect dangerous behaviors in the population or measure how hard an event impacts on it. We all know some companies are implementing this kind of models and apps to research about future employees before proceeding with the selection process.\n",
    "\n",
    "Another important factor to highlight is that, prematurely saying, the first week of the lockdown decreased the depression and anxiety on the US population. We would need to research deeper, with more data for more days to know if actually the lockdown decresed depressive behavior. Also we identified important patterns such as weekens are less depressive days, and the most depressive day of the week is around Tuesday, just like most of the researches state. In addition, we've identified some important patterns during the day, such as the most depressive hour is 17:00 and 23:00, and the less depressive hour is 09:00 - we would need to research in more depth to know the reasons.\n",
    "\n",
    "When talking about how this research can be improved, I would say more data needs to be acquired: More days before and after the lockdown and compare it with other countries, just to know if there are more important patterns. Another good approach would be to include some other keywords to the dataset, that way the classifier has a wider vocabulary. Finally, to normalize the results, I would get the same number of tweets for every day and every hour, that way we can get much more accurate data just basing us on the predictions and not on the tweets fluctuation.\n",
    "\n",
    "Hope you've enjoyed the read. See you around!"
   ]
  },
  {
   "cell_type": "code",
   "execution_count": null,
   "metadata": {
    "papermill": {
     "duration": 0.033231,
     "end_time": "2020-08-12T02:19:07.589017",
     "exception": false,
     "start_time": "2020-08-12T02:19:07.555786",
     "status": "completed"
    },
    "tags": []
   },
   "outputs": [],
   "source": []
  }
 ],
 "metadata": {
  "kernelspec": {
   "display_name": "Python 3",
   "language": "python",
   "name": "python3"
  },
  "language_info": {
   "codemirror_mode": {
    "name": "ipython",
    "version": 3
   },
   "file_extension": ".py",
   "mimetype": "text/x-python",
   "name": "python",
   "nbconvert_exporter": "python",
   "pygments_lexer": "ipython3",
   "version": "3.7.6"
  },
  "papermill": {
   "duration": 1414.986584,
   "end_time": "2020-08-12T02:19:07.750310",
   "environment_variables": {},
   "exception": null,
   "input_path": "__notebook__.ipynb",
   "output_path": "__notebook__.ipynb",
   "parameters": {},
   "start_time": "2020-08-12T01:55:32.763726",
   "version": "2.1.0"
  }
 },
 "nbformat": 4,
 "nbformat_minor": 4
}
